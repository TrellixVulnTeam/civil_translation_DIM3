{
 "cells": [
  {
   "cell_type": "code",
   "execution_count": 9,
   "metadata": {},
   "outputs": [],
   "source": [
    "from sqlalchemy import Column, Integer, String, create_engine, ForeignKey\n",
    "from sqlalchemy.ext.declarative import declarative_base"
   ]
  },
  {
   "cell_type": "code",
   "execution_count": 10,
   "metadata": {},
   "outputs": [],
   "source": [
    "from sqlalchemy.orm import sessionmaker"
   ]
  },
  {
   "cell_type": "code",
   "execution_count": 11,
   "metadata": {},
   "outputs": [],
   "source": [
    "engine = create_engine('sqlite:///corpus.db', echo=True)"
   ]
  },
  {
   "cell_type": "code",
   "execution_count": 12,
   "metadata": {},
   "outputs": [],
   "source": [
    "base = declarative_base()"
   ]
  },
  {
   "cell_type": "code",
   "execution_count": 13,
   "metadata": {},
   "outputs": [],
   "source": [
    "class SejongCorpus(base):\n",
    "    __tablename__ = 'SEJONG_CORPUS'\n",
    "    \n",
    "    pk = Column('pk', Integer, primary_key=True, autoincrement=True)\n",
    "    ko_text = Column('ko_text', String, nullable=True)\n",
    "    thai_text = Column('thai_text', String, nullable=True)\n",
    "    file_name = Column('file_name', String, nullable=True)\n",
    "    sent_count = Column('sent_count', Integer, nullable=True)\n",
    "    cumsum_count = Column('cumsum_count', Integer, nullable=True)\n",
    "    \n",
    "    def __repr__(self):\n",
    "        return 'pk:{}, ko_text:{}, thai_text:{}'.format(self.pk, self.ko_text, self.thai_text)"
   ]
  },
  {
   "cell_type": "code",
   "execution_count": 14,
   "metadata": {},
   "outputs": [],
   "source": [
    "Session = sessionmaker(bind=engine)\n",
    "session = Session()"
   ]
  },
  {
   "cell_type": "code",
   "execution_count": 15,
   "metadata": {},
   "outputs": [
    {
     "name": "stdout",
     "output_type": "stream",
     "text": [
      "2020-08-06 23:51:15,588 INFO sqlalchemy.engine.base.Engine SELECT CAST('test plain returns' AS VARCHAR(60)) AS anon_1\n",
      "2020-08-06 23:51:15,591 INFO sqlalchemy.engine.base.Engine ()\n",
      "2020-08-06 23:51:15,595 INFO sqlalchemy.engine.base.Engine SELECT CAST('test unicode returns' AS VARCHAR(60)) AS anon_1\n",
      "2020-08-06 23:51:15,598 INFO sqlalchemy.engine.base.Engine ()\n",
      "2020-08-06 23:51:15,600 INFO sqlalchemy.engine.base.Engine BEGIN (implicit)\n",
      "2020-08-06 23:51:15,622 INFO sqlalchemy.engine.base.Engine SELECT \"SEJONG_CORPUS\".ko_text AS \"SEJONG_CORPUS_ko_text\", \"SEJONG_CORPUS\".thai_text AS \"SEJONG_CORPUS_thai_text\" \n",
      "FROM \"SEJONG_CORPUS\"\n",
      "2020-08-06 23:51:15,641 INFO sqlalchemy.engine.base.Engine ()\n",
      "2020-08-06 23:51:20,138 INFO sqlalchemy.engine.base.Engine SELECT \"SEJONG_CORPUS\".ko_text AS \"SEJONG_CORPUS_ko_text\", \"SEJONG_CORPUS\".thai_text AS \"SEJONG_CORPUS_thai_text\" \n",
      "FROM \"SEJONG_CORPUS\"\n",
      "2020-08-06 23:51:20,139 INFO sqlalchemy.engine.base.Engine ()\n"
     ]
    }
   ],
   "source": [
    "ko_corpus = [r[0] for r in session.query(SejongCorpus.ko_text, SejongCorpus.thai_text).all()]\n",
    "thai_corpus = [r[1] for r in session.query(SejongCorpus.ko_text, SejongCorpus.thai_text).all()]"
   ]
  },
  {
   "cell_type": "code",
   "execution_count": 16,
   "metadata": {},
   "outputs": [
    {
     "data": {
      "text/plain": [
       "(500196, 500196)"
      ]
     },
     "execution_count": 16,
     "metadata": {},
     "output_type": "execute_result"
    }
   ],
   "source": [
    "len(ko_corpus), len(thai_corpus)"
   ]
  },
  {
   "cell_type": "code",
   "execution_count": 17,
   "metadata": {},
   "outputs": [],
   "source": [
    "with open('corpus.ko', 'w+', encoding='utf-8') as f:\n",
    "    for ko in ko_corpus:\n",
    "        f.write(ko+'|')"
   ]
  },
  {
   "cell_type": "code",
   "execution_count": 18,
   "metadata": {},
   "outputs": [],
   "source": [
    "with open('corpus.th', 'w+', encoding='utf-8') as f2:\n",
    "    for th in thai_corpus:\n",
    "        f2.write(th+'|')"
   ]
  }
 ],
 "metadata": {
  "kernelspec": {
   "display_name": "Python 3",
   "language": "python",
   "name": "python3"
  },
  "language_info": {
   "codemirror_mode": {
    "name": "ipython",
    "version": 3
   },
   "file_extension": ".py",
   "mimetype": "text/x-python",
   "name": "python",
   "nbconvert_exporter": "python",
   "pygments_lexer": "ipython3",
   "version": "3.7.7"
  }
 },
 "nbformat": 4,
 "nbformat_minor": 4
}
