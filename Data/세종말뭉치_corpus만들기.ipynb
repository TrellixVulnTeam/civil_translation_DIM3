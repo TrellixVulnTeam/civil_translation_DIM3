{
 "cells": [
  {
   "cell_type": "code",
   "execution_count": 24,
   "metadata": {},
   "outputs": [],
   "source": [
    "from sqlalchemy import Column, Integer, String, create_engine, ForeignKey\n",
    "from sqlalchemy.ext.declarative import declarative_base"
   ]
  },
  {
   "cell_type": "code",
   "execution_count": 25,
   "metadata": {},
   "outputs": [],
   "source": [
    "from sqlalchemy.orm import sessionmaker"
   ]
  },
  {
   "cell_type": "code",
   "execution_count": 26,
   "metadata": {},
   "outputs": [],
   "source": [
    "engine = create_engine('sqlite:///corpus.db', echo=True)"
   ]
  },
  {
   "cell_type": "code",
   "execution_count": 27,
   "metadata": {},
   "outputs": [],
   "source": [
    "base = declarative_base()"
   ]
  },
  {
   "cell_type": "code",
   "execution_count": 28,
   "metadata": {},
   "outputs": [],
   "source": [
    "class SejongCorpus(base):\n",
    "    __tablename__ = 'SEJONG_CORPUS'\n",
    "    \n",
    "    pk = Column('pk', Integer, primary_key=True, autoincrement=True)\n",
    "    ko_text = Column('ko_text', String, nullable=True)\n",
    "    thai_text = Column('thai_text', String, nullable=True)\n",
    "    file_name = Column('file_name', String, nullable=True)\n",
    "    sent_count = Column('sent_count', Integer, nullable=True)\n",
    "    cumsum_count = Column('cumsum_count', Integer, nullable=True)\n",
    "    \n",
    "    def __repr__(self):\n",
    "        return 'pk:{}, ko_text:{}, thai_text:{}'.format(self.pk, self.ko_text, self.thai_text)"
   ]
  },
  {
   "cell_type": "code",
   "execution_count": 29,
   "metadata": {},
   "outputs": [],
   "source": [
    "Session = sessionmaker(bind=engine)\n",
    "session = Session()"
   ]
  },
  {
   "cell_type": "code",
   "execution_count": 35,
   "metadata": {},
   "outputs": [
    {
     "name": "stdout",
     "output_type": "stream",
     "text": [
      "2020-08-10 12:28:55,155 INFO sqlalchemy.engine.base.Engine SELECT \"SEJONG_CORPUS\".ko_text AS \"SEJONG_CORPUS_ko_text\", \"SEJONG_CORPUS\".thai_text AS \"SEJONG_CORPUS_thai_text\" \n",
      "FROM \"SEJONG_CORPUS\"\n",
      "2020-08-10 12:28:55,166 INFO sqlalchemy.engine.base.Engine ()\n",
      "2020-08-10 12:29:13,091 INFO sqlalchemy.engine.base.Engine SELECT \"SEJONG_CORPUS\".ko_text AS \"SEJONG_CORPUS_ko_text\", \"SEJONG_CORPUS\".thai_text AS \"SEJONG_CORPUS_thai_text\" \n",
      "FROM \"SEJONG_CORPUS\"\n",
      "2020-08-10 12:29:13,092 INFO sqlalchemy.engine.base.Engine ()\n"
     ]
    }
   ],
   "source": [
    "ko_corpus = [r[0] for r in session.query(SejongCorpus.ko_text, SejongCorpus.thai_text).all()]\n",
    "thai_corpus = [r[1] for r in session.query(SejongCorpus.ko_text, SejongCorpus.thai_text).all()]"
   ]
  },
  {
   "cell_type": "code",
   "execution_count": 36,
   "metadata": {},
   "outputs": [
    {
     "data": {
      "text/plain": [
       "(497391, 497391)"
      ]
     },
     "execution_count": 36,
     "metadata": {},
     "output_type": "execute_result"
    }
   ],
   "source": [
    "len(ko_corpus), len(thai_corpus)"
   ]
  },
  {
   "cell_type": "code",
   "execution_count": 30,
   "metadata": {},
   "outputs": [
    {
     "name": "stdout",
     "output_type": "stream",
     "text": [
      "2020-08-10 12:24:09,760 INFO sqlalchemy.engine.base.Engine SELECT CAST('test plain returns' AS VARCHAR(60)) AS anon_1\n",
      "2020-08-10 12:24:09,779 INFO sqlalchemy.engine.base.Engine ()\n",
      "2020-08-10 12:24:09,786 INFO sqlalchemy.engine.base.Engine SELECT CAST('test unicode returns' AS VARCHAR(60)) AS anon_1\n",
      "2020-08-10 12:24:09,788 INFO sqlalchemy.engine.base.Engine ()\n",
      "2020-08-10 12:24:09,792 INFO sqlalchemy.engine.base.Engine BEGIN (implicit)\n",
      "2020-08-10 12:24:09,806 INFO sqlalchemy.engine.base.Engine SELECT \"SEJONG_CORPUS\".ko_text AS \"SEJONG_CORPUS_ko_text\", \"SEJONG_CORPUS\".thai_text AS \"SEJONG_CORPUS_thai_text\" \n",
      "FROM \"SEJONG_CORPUS\"\n",
      "2020-08-10 12:24:09,810 INFO sqlalchemy.engine.base.Engine ()\n"
     ]
    }
   ],
   "source": [
    "corpus_all = session.query(SejongCorpus.ko_text, SejongCorpus.thai_text).all()"
   ]
  },
  {
   "cell_type": "code",
   "execution_count": 31,
   "metadata": {},
   "outputs": [],
   "source": [
    "with open('sejong.txt', 'w+', encoding='utf-8') as f:\n",
    "    for corpus in corpus_all:\n",
    "        f.write(corpus[0]+'\\t'+corpus[1]+'\\n')"
   ]
  },
  {
   "cell_type": "code",
   "execution_count": 32,
   "metadata": {
    "scrolled": true
   },
   "outputs": [],
   "source": [
    "with open('sejong.txt', 'r', encoding='utf-8') as f:\n",
    "    a = f.read()"
   ]
  },
  {
   "cell_type": "code",
   "execution_count": 33,
   "metadata": {},
   "outputs": [],
   "source": [
    "a_list = a.split('\\n')"
   ]
  },
  {
   "cell_type": "code",
   "execution_count": 34,
   "metadata": {},
   "outputs": [
    {
     "data": {
      "text/plain": [
       "'아이티의 임시 정부를 이끌게 될 대통령으로 13일 취임한 에르타 트루이요 여사는 남성 우위의 나라에서 수많은 여성 최초의 기록을 세운 강인한 인상의 존경받는 판사이다.\\tนางเออร์ตาทรูโยซึ่งเข้ารับตำแหน่งเมื่อวันที่ 13 ในฐานะประธานาธิบดีซึ่งจะเป็นผู้นำรัฐบาลชั่วคราวของเฮติเป็นผู้พิพากษาที่ได้รับความเคารพและมีความประทับใจอย่างมากซึ่งสร้างสถิติเป็นครั้งแรกสำหรับผู้หญิงจำนวนมากในประเทศที่มีการปกครองแบบผู้ชาย'"
      ]
     },
     "execution_count": 34,
     "metadata": {},
     "output_type": "execute_result"
    }
   ],
   "source": [
    "a_list[0]"
   ]
  },
  {
   "cell_type": "code",
   "execution_count": 37,
   "metadata": {},
   "outputs": [],
   "source": [
    "with open('corpus.ko', 'w+', encoding='utf-8') as f:\n",
    "    for ko in ko_corpus:\n",
    "        f.write(ko+'|')"
   ]
  },
  {
   "cell_type": "code",
   "execution_count": 38,
   "metadata": {},
   "outputs": [],
   "source": [
    "with open('corpus.th', 'w+', encoding='utf-8') as f2:\n",
    "    for th in thai_corpus:\n",
    "        f2.write(th+'|')"
   ]
  },
  {
   "cell_type": "code",
   "execution_count": null,
   "metadata": {},
   "outputs": [],
   "source": []
  }
 ],
 "metadata": {
  "kernelspec": {
   "display_name": "Python 3",
   "language": "python",
   "name": "python3"
  },
  "language_info": {
   "codemirror_mode": {
    "name": "ipython",
    "version": 3
   },
   "file_extension": ".py",
   "mimetype": "text/x-python",
   "name": "python",
   "nbconvert_exporter": "python",
   "pygments_lexer": "ipython3",
   "version": "3.7.7"
  }
 },
 "nbformat": 4,
 "nbformat_minor": 4
}
