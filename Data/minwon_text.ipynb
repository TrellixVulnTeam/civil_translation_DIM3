{
 "cells": [
  {
   "cell_type": "code",
   "execution_count": null,
   "metadata": {},
   "outputs": [],
   "source": [
    "import win32com.client as win32  \n",
    "import win32gui \n",
    "import os"
   ]
  },
  {
   "cell_type": "code",
   "execution_count": null,
   "metadata": {},
   "outputs": [],
   "source": [
    "BASE_DIR=\"C:\\\\Users\\\\hwp서식\\\\\"\n",
    "OUT_DIR =\"C:\\\\Users\\\\txt서식\\\\\""
   ]
  },
  {
   "cell_type": "code",
   "execution_count": null,
   "metadata": {},
   "outputs": [],
   "source": [
    "os.chdir(BASE_DIR)\n",
    "hwplst = os.listdir()\n",
    "len(hwplst)"
   ]
  },
  {
   "cell_type": "markdown",
   "metadata": {},
   "source": [
    "### 1. hwp to txt"
   ]
  },
  {
   "cell_type": "code",
   "execution_count": null,
   "metadata": {},
   "outputs": [],
   "source": [
    "def convert(cnt):\n",
    "    hwp = win32.gencache.EnsureDispatch(\"HWPFrame.HwpObject\")\n",
    "    hwnd = win32gui.FindWindow(None, 'Noname 1 - HWP')\n",
    "    \n",
    "    win32gui.ShowWindow(hwnd, 0)\n",
    "    hwp.RegisterModule('FilePathCheckDLL', 'SecurityModule')  \n",
    "    \n",
    "    try:\n",
    "        for filename in hwplst[cnt:]:\n",
    "            cnt=hwplst.index(filename)\n",
    "            hwp.Open(os.path.join(BASE_DIR, filename))\n",
    "            hwp.SaveAs(OUT_DIR+str(cnt)+\".txt\", \"TEXT\")\n",
    "    except: \n",
    "        convert(cnt)\n",
    "    hwp.Quit()"
   ]
  },
  {
   "cell_type": "code",
   "execution_count": null,
   "metadata": {},
   "outputs": [],
   "source": [
    "convert(0)"
   ]
  },
  {
   "cell_type": "markdown",
   "metadata": {},
   "source": [
    "### 2. merge txt files "
   ]
  },
  {
   "cell_type": "code",
   "execution_count": null,
   "metadata": {},
   "outputs": [],
   "source": [
    "outfile_name = 'minwon_text.txt'\n",
    "out_file = open(\"C:\\\\Users\\\\\"+outfile_name,'w')\n",
    "files = os.listdir(OUT_DIR)"
   ]
  },
  {
   "cell_type": "code",
   "execution_count": null,
   "metadata": {},
   "outputs": [],
   "source": [
    "for filename in files:\n",
    "    if \".txt\" not in filename:\n",
    "        continue\n",
    "    try:   \n",
    "        file = open(OUT_DIR+filename)\n",
    "        for line in file:\n",
    "            out_file.write(line)\n",
    "        out_file.write('\\n\\n\\n')\n",
    "        file.close()\n",
    "    except:\n",
    "        continue  \n",
    "out_file.close()"
   ]
  },
  {
   "cell_type": "markdown",
   "metadata": {},
   "source": [
    "### 3. 파일 인코딩 utf-8로 변환"
   ]
  },
  {
   "cell_type": "markdown",
   "metadata": {},
   "source": [
    "### 4. file open"
   ]
  },
  {
   "cell_type": "code",
   "execution_count": null,
   "metadata": {},
   "outputs": [],
   "source": [
    "f = open(\"C:\\\\Users\\\\\"+outfile_name, 'r')\n",
    "lines = f.readlines()\n",
    "print(lines)\n",
    "f.close()"
   ]
  }
 ],
 "metadata": {
  "kernelspec": {
   "display_name": "Python 3",
   "language": "python",
   "name": "python3"
  },
  "language_info": {
   "codemirror_mode": {
    "name": "ipython",
    "version": 3
   },
   "file_extension": ".py",
   "mimetype": "text/x-python",
   "name": "python",
   "nbconvert_exporter": "python",
   "pygments_lexer": "ipython3",
   "version": "3.7.4"
  }
 },
 "nbformat": 4,
 "nbformat_minor": 2
}
