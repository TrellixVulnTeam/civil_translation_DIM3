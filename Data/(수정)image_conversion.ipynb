{
 "cells": [
  {
   "cell_type": "code",
   "execution_count": 1,
   "metadata": {},
   "outputs": [],
   "source": [
    "# pacakage"
   ]
  },
  {
   "cell_type": "code",
   "execution_count": 2,
   "metadata": {},
   "outputs": [
    {
     "name": "stdout",
     "output_type": "stream",
     "text": [
      "C:\\Users\\주상원\n"
     ]
    }
   ],
   "source": [
    "import numpy as np\n",
    "# cv2 import 안될 경우, python -m pip install opencv-python 를 cmd에 입력\n",
    "import cv2\n",
    "from random import random\n",
    "import copy\n",
    "import os\n",
    "print(os.getcwd()) # working directory check"
   ]
  },
  {
   "cell_type": "code",
   "execution_count": 3,
   "metadata": {},
   "outputs": [],
   "source": [
    "# 이미지 노이즈 추가 function\n",
    "def salt_and_pepper(image, p):\n",
    "#    print(image.shape)\n",
    "    output = np.zeros(image.shape, np.uint8)\n",
    "    thres = 1-p\n",
    "    for i in range(image.shape[0]):\n",
    "        for j in range(image.shape[1]):\n",
    "            rdn = random()\n",
    "            if rdn < p :\n",
    "                output[i][j] = 0\n",
    "            elif rdn > thres:\n",
    "                output[i][j] = 25\n",
    "                \n",
    "            else:\n",
    "                output[i][j] = image[i][j]\n",
    "    return output"
   ]
  },
  {
   "cell_type": "code",
   "execution_count": null,
   "metadata": {},
   "outputs": [],
   "source": [
    "# 이미지 번짐 기능 추가 function\n",
    "# range - int만 설정 가능, 커질수록 많이 흐려짐\n",
    "def blur_image(img):\n",
    "    global c",
    "    for a in range(1,25):\n",
    "        for b in range(1,25):\n",
    "            dst = cv2.blur(img,(a,b), anchor = (-1,-1), borderType = cv2.BORDER_DEFAULT)\n",
    "            # 이미지 저장 경로 설정 - 2\n",
    "            cv2.imwrite(\"C:\\\\Labor_out\\\\blur{0}-{1}.jpg\".format(a,b),dst)",
    "    c=c+1"
   ]
  },
  {
   "cell_type": "code",
   "execution_count": null,
   "metadata": {},
   "outputs": [],
   "source": [
    "# 이미지 경로 한글일 경우 호출 function\n",
    "def  imread_hangul_path(path):\n",
    "    with open(path, \"rb\") as fp:\n",
    "        bytes = bytearray(fp.read())\n",
    "        numpy_array = np.asarray(bytes, dtype=np.uint8)\n",
    "    return cv2.imdecode(numpy_array, cv2.IMREAD_UNCHANGED)"
   ]
  },
  {
   "cell_type": "code",
   "execution_count": null,
   "metadata": {},
   "outputs": [],
   "source": [
    "# 이미지 자동 변환 생성 function\n",
    "# parameter : filepath = 'image 저장 경로'\n",
    "# for 문의 range - float 높아질수록 많은 노이즈 생성\n",
    "def image_dummy(filepath):\n",
    "    j=1\n",
    "    img_path = filepath+'\\\\'\n",
    "    file_list = os.listdir(filepath)\n",
    "    for _ in file_list:\n",
    "        path = img_path + _\n",
    "        hangul_img = imread_hangul_path(path)\n",
    "        for i in range(10,61):\n",
    "            test = salt_and_pepper(hangul_img, i*0.001)\n",
    "            # 변환 이미지 저장 경로 설정 - 1\n",
    "            cv2.imwrite(\"C:\\\\Labor_out\\\\noise{0}-{1}.jpg\".format(j,i),test)\n",
    "        blur_image(hangul_img)\n",
    "        j=j+1"
   ]
  },
  {
   "cell_type": "code",
   "execution_count": null,
   "metadata": {},
   "outputs": [],
   "source": [
    "# 사용 시 코드 수정 사항\n",
    "# img_path(현재 이미지 저장 경로(절대) 설정)\n",
    "# 변환된 이미지 저장 경로 설정 - 2개\n",
    "# 1. image_dummy(filepath), 2. blur_image(img)\n",
    "# image_dummy / blur_image 내부에서 노이즈 / 흐림 정도 설정 가능"
   ]
  },
  {
   "cell_type": "code",
   "execution_count": null,
   "metadata": {},
   "outputs": [],
   "source": [
    "# 사용 예시 \n",
    "c = 1",
    "img_path = 'C:\\\\Users\\\\주상원\\\\LaborImage'\n",
    "image_dummy(img_path)"
   ]
  },
  {
   "cell_type": "code",
   "execution_count": null,
   "metadata": {},
   "outputs": [],
   "source": []
  },
  {
   "cell_type": "code",
   "execution_count": null,
   "metadata": {},
   "outputs": [],
   "source": []
  }
 ],
 "metadata": {
  "kernelspec": {
   "display_name": "Python 3",
   "language": "python",
   "name": "python3"
  },
  "language_info": {
   "codemirror_mode": {
    "name": "ipython",
    "version": 3
   },
   "file_extension": ".py",
   "mimetype": "text/x-python",
   "name": "python",
   "nbconvert_exporter": "python",
   "pygments_lexer": "ipython3",
   "version": "3.6.5"
  }
 },
 "nbformat": 4,
 "nbformat_minor": 2
}
