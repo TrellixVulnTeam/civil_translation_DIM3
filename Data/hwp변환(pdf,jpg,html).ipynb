{
 "cells": [
  {
   "cell_type": "markdown",
   "metadata": {},
   "source": [
    "#### win32com 설치 \n",
    "콘다 프롬포트 창에서 > conda install pywin32"
   ]
  },
  {
   "cell_type": "code",
   "execution_count": null,
   "metadata": {},
   "outputs": [],
   "source": [
    "import win32com.client as win32  # 한/글 열 수 있는 모듈\n",
    "import win32gui  # 창 숨기기 위한 모듈\n",
    "import os"
   ]
  },
  {
   "cell_type": "code",
   "execution_count": null,
   "metadata": {},
   "outputs": [],
   "source": [
    "BASE_DIR=\"C:\\\\hwp서식\\\\수원시민원서류\\\\\"\n",
    "OUT_DIR =\"C:\\\\pdf서식\\\\수원시민원서류\\\\\""
   ]
  },
  {
   "cell_type": "markdown",
   "metadata": {},
   "source": [
    "### 1. HWP TO PDF"
   ]
  },
  {
   "cell_type": "code",
   "execution_count": null,
   "metadata": {},
   "outputs": [],
   "source": [
    "os.chdir(BASE_DIR)\n",
    "len(os.listdir())"
   ]
  },
  {
   "cell_type": "code",
   "execution_count": null,
   "metadata": {},
   "outputs": [],
   "source": [
    "lst = os.listdir()"
   ]
  },
  {
   "cell_type": "code",
   "execution_count": null,
   "metadata": {},
   "outputs": [],
   "source": [
    "cnt=0"
   ]
  },
  {
   "cell_type": "code",
   "execution_count": null,
   "metadata": {},
   "outputs": [],
   "source": [
    "def convert(cnt):\n",
    "    fileList = lst[cnt:] \n",
    "    hwp = win32.gencache.EnsureDispatch(\"HWPFrame.HwpObject\")\n",
    "    hwnd = win32gui.FindWindow(None, 'Noname 1 - HWP')\n",
    "    \n",
    "    # 한글창 안열리도록 설정\n",
    "    # 0은 숨기기, 5는 보이기, 3은 풀스크린 등\n",
    "    win32gui.ShowWindow(hwnd, 0)\n",
    "\n",
    "    # 보안모듈 적용 => 경고문\n",
    "    # https://www.youtube.com/watch?v=2Cv16_ZO5rk&t=429s 참고해서 보안모듈 적용하기\n",
    "    hwp.RegisterModule('FilePathCheckDLL', 'SecurityModule')  \n",
    "    \n",
    "    try:\n",
    "        for filename in fileList:\n",
    "            hwp.Open(os.path.join(BASE_DIR, filename))\n",
    "            hwp.SaveAs(OUT_DIR+filename[:-4]+\".pdf\", \"PDF\")\n",
    "            cnt+=1\n",
    "    except: \n",
    "        print(str(cnt)+' 에러 발생')\n",
    "        convert(cnt)\n",
    "        \n",
    "    hwp.Quit()"
   ]
  },
  {
   "cell_type": "code",
   "execution_count": null,
   "metadata": {},
   "outputs": [],
   "source": [
    "convert(cnt)"
   ]
  },
  {
   "cell_type": "markdown",
   "metadata": {},
   "source": [
    "### 2. HWP TO JPG"
   ]
  },
  {
   "cell_type": "code",
   "execution_count": null,
   "metadata": {},
   "outputs": [],
   "source": [
    "# hwp->pdf->jpg보다 화질 안좋고 글자 깨짐\n",
    "\n",
    "for filename in os.listdir():\n",
    "    hwp.Open(os.path.join(BASE_DIR, filename))\n",
    "    hwp.SaveAs(OUT_DIR+filename[:-4]+\".jpg\", \"JPG\")"
   ]
  },
  {
   "cell_type": "code",
   "execution_count": null,
   "metadata": {},
   "outputs": [],
   "source": [
    "hwp.Quit()"
   ]
  },
  {
   "cell_type": "markdown",
   "metadata": {},
   "source": [
    "### 3. HWP TO HTML"
   ]
  },
  {
   "cell_type": "markdown",
   "metadata": {},
   "source": [
    "- pip install --user --pre pyhwp\n",
    "- 환경변수 설정\n",
    "- 변환할 파일명에 띄어쓰기 없도록함"
   ]
  },
  {
   "cell_type": "code",
   "execution_count": null,
   "metadata": {},
   "outputs": [],
   "source": [
    "import os"
   ]
  },
  {
   "cell_type": "code",
   "execution_count": null,
   "metadata": {},
   "outputs": [],
   "source": [
    "path = 'C:\\\\Users\\\\SAMSUNG\\\\Desktop\\\\OCR플젝\\\\testhwp\\\\'\n",
    "exefile = 'hwp5html'"
   ]
  },
  {
   "cell_type": "code",
   "execution_count": null,
   "metadata": {},
   "outputs": [],
   "source": [
    "def hwp2html(path):\n",
    "    res = []\n",
    "    for root, dirs, files in os.walk(path):\n",
    "        rootpath = os.path.join(os.path.abspath(path),root)\n",
    "        for file in files:\n",
    "            filepath = os.path.join(rootpath, file)\n",
    "            res.append(filepath)\n",
    "        for result in res:\n",
    "            result = '\"'+result+'\"'\n",
    "            os.system(exefile +' '+result+' '+path)\n",
    "      \n",
    "            \n",
    "if __name__ == \"__main__\":\n",
    "    hwp2html(path)"
   ]
  },
  {
   "cell_type": "code",
   "execution_count": null,
   "metadata": {},
   "outputs": [],
   "source": []
  }
 ],
 "metadata": {
  "kernelspec": {
   "display_name": "Python 3",
   "language": "python",
   "name": "python3"
  },
  "language_info": {
   "codemirror_mode": {
    "name": "ipython",
    "version": 3
   },
   "file_extension": ".py",
   "mimetype": "text/x-python",
   "name": "python",
   "nbconvert_exporter": "python",
   "pygments_lexer": "ipython3",
   "version": "3.7.4"
  }
 },
 "nbformat": 4,
 "nbformat_minor": 2
}
