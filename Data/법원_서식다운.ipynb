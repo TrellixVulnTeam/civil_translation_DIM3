{
 "cells": [
  {
   "cell_type": "code",
   "execution_count": 1,
   "metadata": {},
   "outputs": [],
   "source": [
    "import pandas as pd\n",
    "from selenium import webdriver\n",
    "from bs4 import BeautifulSoup\n"
   ]
  },
  {
   "cell_type": "code",
   "execution_count": 2,
   "metadata": {},
   "outputs": [],
   "source": [
    "import time\n",
    "from selenium.webdriver.common.by import By\n",
    "from selenium.webdriver.support.ui import WebDriverWait\n",
    "from selenium.webdriver.support import expected_conditions as EC"
   ]
  },
  {
   "cell_type": "code",
   "execution_count": null,
   "metadata": {},
   "outputs": [],
   "source": [
    "# 법원"
   ]
  },
  {
   "cell_type": "code",
   "execution_count": 3,
   "metadata": {},
   "outputs": [],
   "source": [
    "url = 'https://help.scourt.go.kr/nm/minwon/doc/DocListAction.work'\n",
    "prams ={\n",
    "    'pageIndex':1,\n",
    "    'pageSize':5,\n",
    "    'min_gubun':'a',\n",
    "    'sName':'',\n",
    "    'eName':'',\n",
    "    'min_gubun_sel':'',\n",
    "    'searchWord':''\n",
    "}\n",
    "headers ={\n",
    "    'user-agent' : 'Mozilla/5.0 (Windows NT 10.0; Win64; x64) AppleWebKit/537.36 (KHTML, like Gecko) Chrome/83.0.4103.116 Safari/537.36'\n",
    "}"
   ]
  },
  {
   "cell_type": "code",
   "execution_count": 14,
   "metadata": {},
   "outputs": [],
   "source": [
    "driver = webdriver.Chrome('C:/Users/주상원/Desktop/데이터 캠퍼스/chromedriver')\n",
    "driver.get(url)"
   ]
  },
  {
   "cell_type": "code",
   "execution_count": 12,
   "metadata": {},
   "outputs": [],
   "source": [
    "def downfile_law():\n",
    "    i = 1\n",
    "    j = 4\n",
    "    while i < 10:\n",
    "        try:\n",
    "            find = driver.find_element_by_xpath('//*[@id=\"content\"]/div[2]/div[2]/div/div/table/tbody/tr[{}]/td/a'.format(i))\n",
    "            find.click()\n",
    "            i = i+1\n",
    "            time.sleep(2)\n",
    "        except:\n",
    "            print('해당 서식이 없습니다.')\n",
    "            i = i+1\n",
    "            break\n",
    "            time.sleep(2)\n",
    "        if i >= 10:\n",
    "            i = 1\n",
    "            next_pg = driver.find_element_by_xpath('//*[@id=\"content\"]/div[2]/div[2]/div/div/div[2]/ul/li[{}]/a'.format(j))\n",
    "            j = j+1\n",
    "            if j == 9:\n",
    "                j=4\n",
    "            next_pg.click()\n",
    "                \n",
    "        "
   ]
  },
  {
   "cell_type": "code",
   "execution_count": 15,
   "metadata": {},
   "outputs": [
    {
     "name": "stdout",
     "output_type": "stream",
     "text": [
      "해당 서식이 없습니다.\n"
     ]
    }
   ],
   "source": [
    "downfile_law()"
   ]
  },
  {
   "cell_type": "code",
   "execution_count": 16,
   "metadata": {},
   "outputs": [],
   "source": [
    "driver.quit()"
   ]
  },
  {
   "cell_type": "code",
   "execution_count": null,
   "metadata": {},
   "outputs": [],
   "source": []
  },
  {
   "cell_type": "code",
   "execution_count": null,
   "metadata": {},
   "outputs": [],
   "source": []
  }
 ],
 "metadata": {
  "kernelspec": {
   "display_name": "Python 3",
   "language": "python",
   "name": "python3"
  },
  "language_info": {
   "codemirror_mode": {
    "name": "ipython",
    "version": 3
   },
   "file_extension": ".py",
   "mimetype": "text/x-python",
   "name": "python",
   "nbconvert_exporter": "python",
   "pygments_lexer": "ipython3",
   "version": "3.7.4"
  }
 },
 "nbformat": 4,
 "nbformat_minor": 2
}
