{
 "cells": [
  {
   "cell_type": "code",
   "execution_count": 1,
   "metadata": {},
   "outputs": [],
   "source": [
    "import pandas as pd\n",
    "from selenium import webdriver\n",
    "from bs4 import BeautifulSoup"
   ]
  },
  {
   "cell_type": "code",
   "execution_count": 2,
   "metadata": {},
   "outputs": [],
   "source": [
    "import time\n",
    "from selenium.webdriver.common.by import By\n",
    "from selenium.webdriver.support.ui import WebDriverWait\n",
    "from selenium.webdriver.support import expected_conditions as EC\n",
    "from urllib.robotparser import RobotFileParser\n",
    "from urllib.parse import urlparse, urljoin, urlencode, quote_plus, quote, unquote\n"
   ]
  },
  {
   "cell_type": "code",
   "execution_count": 3,
   "metadata": {},
   "outputs": [],
   "source": [
    "def canfetch(url, agent='*', path='/'):\n",
    "    robot = RobotFileParser(urljoin(url, '/robots.txt'))\n",
    "    robot.read()\n",
    "    return robot.can_fetch(agent,urlparse(url)[2])"
   ]
  },
  {
   "cell_type": "code",
   "execution_count": 4,
   "metadata": {},
   "outputs": [],
   "source": [
    "def download(url, params={}, headers={}, method='GET', limit=3):\n",
    "    if canfetch(url) == False:\n",
    "        print('[Error] ' + url)\n",
    "    try:\n",
    "        resp = requests.request(method, url,\n",
    "                               params = params if method == 'GET' else {},\n",
    "                               data = params if method == 'GET' else {},\n",
    "                               headers = headers)\n",
    "        resp.raise_for_status()\n",
    "    except HTTPError as e:\n",
    "        if limit >0 and e.response.status_code >= 500:\n",
    "            print(limit)\n",
    "            time.sleep(100)\n",
    "            resp = download(url, params, headers, method, limit-1)\n",
    "        else:\n",
    "            print('[{}]'.format(e.response.status_code)+url)\n",
    "            print(e.response.status_code)\n",
    "            print(e.response.reason)\n",
    "            print(e.response.headers)\n",
    "    return resp\n",
    "        "
   ]
  },
  {
   "cell_type": "code",
   "execution_count": null,
   "metadata": {},
   "outputs": [],
   "source": [
    "url = 'http://www.jeju.go.kr/open/minwon/form.htm'\n",
    "params ={\n",
    "    'act':'index',\n",
    "    'classCd':''\n",
    "}\n",
    "headers ={\n",
    "    'user-agent' : 'Mozilla/5.0 (Windows NT 10.0; Win64; x64) AppleWebKit/537.36 (KHTML, like Gecko) Chrome/83.0.4103.116 Safari/537.36'\n",
    "}\n",
    "resp = download(url, params, headers, 'GET')"
   ]
  },
  {
   "cell_type": "code",
   "execution_count": 5,
   "metadata": {},
   "outputs": [],
   "source": [
    "url = 'http://www.jeju.go.kr/open/minwon/form.htm?act=index&classCd='"
   ]
  },
  {
   "cell_type": "code",
   "execution_count": 19,
   "metadata": {},
   "outputs": [],
   "source": [
    "driver = webdriver.Chrome('C:/Users/주상원/Desktop/데이터 캠퍼스/chromedriver')\n",
    "driver.get(url)\n"
   ]
  },
  {
   "cell_type": "code",
   "execution_count": null,
   "metadata": {},
   "outputs": [],
   "source": [
    "//*[@id=\"sub-contents\"]/div[1]/div/div[3]/div/ul/li[1]/a\n",
    "\n",
    "//*[@id=\"sub-contents\"]/div[1]/div/div[3]/div/ul/li[4]/a\n",
    "//*[@id=\"sub-contents\"]/div[1]/div/div[3]/div/ul/li[8]/a"
   ]
  },
  {
   "cell_type": "code",
   "execution_count": null,
   "metadata": {},
   "outputs": [],
   "source": [
    "#info2268 > p.mb-name"
   ]
  },
  {
   "cell_type": "code",
   "execution_count": 21,
   "metadata": {},
   "outputs": [],
   "source": [
    "def downfile_jeju():\n",
    "    i = 0\n",
    "#    j = 2\n",
    "    j=4\n",
    "    k = 2\n",
    "    while i < 21 :\n",
    "        find = driver.find_elements_by_css_selector('#sub-contents > div.iframe-responsive > div > div.minwon-box > div.mb-contents > div.mb-list > p.mb-name >a')[i]\n",
    "        find.click()\n",
    "        i = i+1\n",
    "        # 파일 다운로드\n",
    "        time.sleep(1)\n",
    "        try:\n",
    "            driver.find_element_by_xpath('//*[@id=\"sub-contents\"]/div[1]/div/div[2]/div[2]/div[{}]/div/table[2]/tbody/tr[2]/td/a'.format(k)).click()\n",
    "            time.sleep(1)\n",
    "        except:\n",
    "            print('해당 서식이 없습니다')\n",
    "        \n",
    "        # 뒤로 가기\n",
    "        try:\n",
    "            driver.back()\n",
    "            time.sleep(1)\n",
    "        except:\n",
    "            driver.back()\n",
    "            time.sleep(1)\n",
    "        k=k+1\n",
    "\n",
    "        if i >= 20:\n",
    "            k=2\n",
    "            i=0\n",
    "            next_pg = driver.find_element_by_xpath('//*[@id=\"sub-contents\"]/div[1]/div/div[3]/div/ul/li[{}]/a'.format(j))\n",
    "            j = j+1\n",
    "            next_pg.click()\n",
    "            if j > 8:\n",
    "                j=4\n",
    "            \n",
    "    \n",
    "        "
   ]
  },
  {
   "cell_type": "code",
   "execution_count": 22,
   "metadata": {},
   "outputs": [
    {
     "name": "stdout",
     "output_type": "stream",
     "text": [
      "해당 서식이 없습니다\n",
      "해당 서식이 없습니다\n",
      "해당 서식이 없습니다\n",
      "해당 서식이 없습니다\n",
      "해당 서식이 없습니다\n",
      "해당 서식이 없습니다\n",
      "해당 서식이 없습니다\n",
      "해당 서식이 없습니다\n",
      "해당 서식이 없습니다\n",
      "해당 서식이 없습니다\n",
      "해당 서식이 없습니다\n",
      "해당 서식이 없습니다\n",
      "해당 서식이 없습니다\n",
      "해당 서식이 없습니다\n",
      "해당 서식이 없습니다\n",
      "해당 서식이 없습니다\n",
      "해당 서식이 없습니다\n",
      "해당 서식이 없습니다\n",
      "해당 서식이 없습니다\n",
      "해당 서식이 없습니다\n",
      "해당 서식이 없습니다\n",
      "해당 서식이 없습니다\n",
      "해당 서식이 없습니다\n",
      "해당 서식이 없습니다\n",
      "해당 서식이 없습니다\n",
      "해당 서식이 없습니다\n",
      "해당 서식이 없습니다\n",
      "해당 서식이 없습니다\n",
      "해당 서식이 없습니다\n",
      "해당 서식이 없습니다\n",
      "해당 서식이 없습니다\n",
      "해당 서식이 없습니다\n",
      "해당 서식이 없습니다\n",
      "해당 서식이 없습니다\n",
      "해당 서식이 없습니다\n",
      "해당 서식이 없습니다\n",
      "해당 서식이 없습니다\n",
      "해당 서식이 없습니다\n",
      "해당 서식이 없습니다\n",
      "해당 서식이 없습니다\n",
      "해당 서식이 없습니다\n",
      "해당 서식이 없습니다\n",
      "해당 서식이 없습니다\n",
      "해당 서식이 없습니다\n",
      "해당 서식이 없습니다\n",
      "해당 서식이 없습니다\n"
     ]
    },
    {
     "ename": "IndexError",
     "evalue": "list index out of range",
     "output_type": "error",
     "traceback": [
      "\u001b[1;31m---------------------------------------------------------------------------\u001b[0m",
      "\u001b[1;31mIndexError\u001b[0m                                Traceback (most recent call last)",
      "\u001b[1;32m<ipython-input-22-dd7d800eaf9a>\u001b[0m in \u001b[0;36m<module>\u001b[1;34m()\u001b[0m\n\u001b[1;32m----> 1\u001b[1;33m \u001b[0mdownfile_jeju\u001b[0m\u001b[1;33m(\u001b[0m\u001b[1;33m)\u001b[0m\u001b[1;33m\u001b[0m\u001b[0m\n\u001b[0m",
      "\u001b[1;32m<ipython-input-21-326d0a6c2eb5>\u001b[0m in \u001b[0;36mdownfile_jeju\u001b[1;34m()\u001b[0m\n\u001b[0;32m      5\u001b[0m     \u001b[0mk\u001b[0m \u001b[1;33m=\u001b[0m \u001b[1;36m2\u001b[0m\u001b[1;33m\u001b[0m\u001b[0m\n\u001b[0;32m      6\u001b[0m     \u001b[1;32mwhile\u001b[0m \u001b[0mi\u001b[0m \u001b[1;33m<\u001b[0m \u001b[1;36m21\u001b[0m \u001b[1;33m:\u001b[0m\u001b[1;33m\u001b[0m\u001b[0m\n\u001b[1;32m----> 7\u001b[1;33m         \u001b[0mfind\u001b[0m \u001b[1;33m=\u001b[0m \u001b[0mdriver\u001b[0m\u001b[1;33m.\u001b[0m\u001b[0mfind_elements_by_css_selector\u001b[0m\u001b[1;33m(\u001b[0m\u001b[1;34m'#sub-contents > div.iframe-responsive > div > div.minwon-box > div.mb-contents > div.mb-list > p.mb-name >a'\u001b[0m\u001b[1;33m)\u001b[0m\u001b[1;33m[\u001b[0m\u001b[0mi\u001b[0m\u001b[1;33m]\u001b[0m\u001b[1;33m\u001b[0m\u001b[0m\n\u001b[0m\u001b[0;32m      8\u001b[0m         \u001b[0mfind\u001b[0m\u001b[1;33m.\u001b[0m\u001b[0mclick\u001b[0m\u001b[1;33m(\u001b[0m\u001b[1;33m)\u001b[0m\u001b[1;33m\u001b[0m\u001b[0m\n\u001b[0;32m      9\u001b[0m         \u001b[0mi\u001b[0m \u001b[1;33m=\u001b[0m \u001b[0mi\u001b[0m\u001b[1;33m+\u001b[0m\u001b[1;36m1\u001b[0m\u001b[1;33m\u001b[0m\u001b[0m\n",
      "\u001b[1;31mIndexError\u001b[0m: list index out of range"
     ]
    }
   ],
   "source": [
    "downfile_jeju()"
   ]
  },
  {
   "cell_type": "code",
   "execution_count": 23,
   "metadata": {},
   "outputs": [],
   "source": [
    "driver.quit()"
   ]
  },
  {
   "cell_type": "code",
   "execution_count": null,
   "metadata": {},
   "outputs": [],
   "source": []
  }
 ],
 "metadata": {
  "kernelspec": {
   "display_name": "Python 3",
   "language": "python",
   "name": "python3"
  },
  "language_info": {
   "codemirror_mode": {
    "name": "ipython",
    "version": 3
   },
   "file_extension": ".py",
   "mimetype": "text/x-python",
   "name": "python",
   "nbconvert_exporter": "python",
   "pygments_lexer": "ipython3",
   "version": "3.6.5"
  }
 },
 "nbformat": 4,
 "nbformat_minor": 2
}
