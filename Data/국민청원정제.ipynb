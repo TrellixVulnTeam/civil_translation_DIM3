{
 "cells": [
  {
   "cell_type": "code",
   "execution_count": 3,
   "metadata": {},
   "outputs": [],
   "source": [
    "from petitions_dataset import Petitions\n",
    "petitions = Petitions(begin_date='2017-08-01', end_date='2017-12-31')"
   ]
  },
  {
   "cell_type": "code",
   "execution_count": 19,
   "metadata": {},
   "outputs": [],
   "source": [
    "import pandas as pd"
   ]
  },
  {
   "cell_type": "code",
   "execution_count": 4,
   "metadata": {
    "scrolled": false
   },
   "outputs": [
    {
     "data": {
      "text/plain": [
       "71413"
      ]
     },
     "execution_count": 4,
     "metadata": {},
     "output_type": "execute_result"
    }
   ],
   "source": [
    "len(petitions)"
   ]
  },
  {
   "cell_type": "code",
   "execution_count": 23,
   "metadata": {},
   "outputs": [],
   "source": [
    "import re"
   ]
  },
  {
   "cell_type": "code",
   "execution_count": 142,
   "metadata": {},
   "outputs": [],
   "source": [
    "date_dict = {\n",
    "    '2017-08-01': '2017-12-31',\n",
    "    '2018-01-01': '2018-12-31',\n",
    "    '2019-01-01': '2019-09-29'\n",
    "}\n",
    "\n",
    "REGEX_URL = '(http|ftp|https)://(?:[-\\w.]|(?:%[\\da-fA-F]{2}))+'\n",
    "REGEX_SPECIAL = '[-~!=+,#/\\?:^$@*\\\"※~&%ㆍ!』\\\\‘|\\(\\)\\[\\]\\<\\>`\\'…》∎○■★+△\\d]'\n",
    "REGEX_APPLICANT_NUMBER = '([\\d+[A-Z]+)\\d{1,5}\\d{1,6}'\n",
    "REGEX_MESSENGER = '[naver|kakao|fcb|facebook]'\n",
    "REGEX_JAMO = '([ㄱ-ㅎㅏ-ㅣ]+)'\n"
   ]
  },
  {
   "cell_type": "code",
   "execution_count": 138,
   "metadata": {},
   "outputs": [],
   "source": [
    "for key in date_dict.keys():\n",
    "#     print(key, date_dict[key])\n",
    "    petitions = Petitions(begin_date=key, end_date=date_dict[key])\n",
    "    petitions.set_keys('begin', 'category', 'title', 'content')\n",
    "    sentences_list = []\n",
    "    for date, category, title, content in petitions:\n",
    "        remove_spec_char = re.sub(REGEX_URL, '', content)\n",
    "        remove_spec_char = re.sub(REGEX_SPECIAL, '', remove_spec_char)\n",
    "        remove_spec_char = re.sub(REGEX_APPLICANT_NUMBER, '', remove_spec_char)\n",
    "        remove_spec_char = re.sub(REGEX_MESSENGER, '', remove_spec_char)\n",
    "        remove_spec_char = re.sub(REGEX_JAMO, '', remove_spec_char)\n",
    "        remove_spec_char = re.sub('[a-z]+', '', remove_spec_char)\n",
    "        \n",
    "        tmp_lst = [date, category, title, remove_spec_char]\n",
    "        sentences_list.append(tmp_lst)\n",
    "    df = pd.DataFrame(sentences_list)\n",
    "    df.to_csv('{}.csv'.format(key), sep='\\t')"
   ]
  }
 ],
 "metadata": {
  "kernelspec": {
   "display_name": "Python 3",
   "language": "python",
   "name": "python3"
  },
  "language_info": {
   "codemirror_mode": {
    "name": "ipython",
    "version": 3
   },
   "file_extension": ".py",
   "mimetype": "text/x-python",
   "name": "python",
   "nbconvert_exporter": "python",
   "pygments_lexer": "ipython3",
   "version": "3.7.7"
  }
 },
 "nbformat": 4,
 "nbformat_minor": 4
}
