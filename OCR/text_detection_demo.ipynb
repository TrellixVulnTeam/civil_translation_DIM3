{
 "cells": [
  {
   "cell_type": "code",
   "execution_count": 1,
   "metadata": {},
   "outputs": [],
   "source": [
    "import cv2 as cv\n",
    "import numpy as np\n",
    "from matplotlib import pyplot as plt\n",
    "from PIL import Image\n",
    "import configparser\n",
    "import os"
   ]
  },
  {
   "cell_type": "code",
   "execution_count": 2,
   "metadata": {},
   "outputs": [],
   "source": [
    "import pytesseract\n",
    "pytesseract.pytesseract.tesseract_cmd = 'C:/Program Files/Tesseract-OCR/tesseract'\n",
    "# pytersseract 설치경로 설정해주어야 함"
   ]
  },
  {
   "cell_type": "code",
   "execution_count": null,
   "metadata": {},
   "outputs": [],
   "source": [
    "# # 4버전이랑 3버전이랑 코드가 다름\n",
    "# OpenCV 4.x\n",
    "# contours, hierarchy = cv.findContours(img_binary, cv.RETR_LIST, cv.CHAIN_APPROX_SIMPLE)\n",
    "# OpenCV 3.x\n",
    "# _, contours, hierarchy = cv.findContours(img_binary, cv.RETR_LIST, cv.CHAIN_APPROX_SIMPLE)"
   ]
  },
  {
   "cell_type": "code",
   "execution_count": null,
   "metadata": {},
   "outputs": [],
   "source": [
    "# opencv 기본코드들\n",
    "\n",
    "# 이미지 불러오기 \n",
    "img_color = cv.imread('test.png')\n",
    "\n",
    "# 이미지 흑백전환\n",
    "img_gray = cv.cvtColor(img_color, cv.COLOR_BGR2GRAY)\n",
    "\n",
    "# 임계점 설정(threshold)\n",
    "ret, img_binary = cv.threshold(img_gray, 127, 255, 0)\n",
    "\n",
    "# Contours 추출\n",
    "contours, hierarchy = cv.findContours(img_binary, cv.RETR_LIST, cv.CHAIN_APPROX_SIMPLE)\n",
    "\n",
    "# Contours 박스 그리기\n",
    "for cnt in contours:\n",
    "    cv.drawContours(img_color, [cnt], 0, (255, 0, 0), 3)  # blue\n",
    "\n",
    "\n",
    "# 이미지 보여주기와 아웃은 같이 써야 jupyter notebook kernel 이 터지지 않음    \n",
    "# 이미지 보여주기\n",
    "cv.imshow(\"result1\", img_color)\n",
    "\n",
    "# 이미지 아웃\n",
    "cv.waitKey(0)\n",
    "\n",
    "# 이미지에서 특정 직선 좌표 찾기\n",
    "cv.HoughLinesP(image, rho, theta, threshod, minLineLength, MaxLineGap)\n",
    "\n",
    "# 이미지 선분 그리기\n",
    "# 호프변환에서 얻은 좌표를 다음 line함수에 대입\n",
    "# start/end point의 좌표는 (x,y)형식 color=BGR(0,0,0)~(255,255,255)\n",
    "cv.line(img, start_point, end_point, color, thickness)\n",
    "\n",
    "# # # 이거 뭔지 모르겠다\n",
    "# for cnt in contours:\n",
    "#     area = cv.contourArea(cnt)\n",
    "#     print(area)"
   ]
  },
  {
   "cell_type": "code",
   "execution_count": null,
   "metadata": {},
   "outputs": [],
   "source": [
    "# 연습 - 이미지도 같이 첨부하겠음\n",
    "img_color = cv.imread('square.png')\n",
    "img_gray = cv.cvtColor(img_color, cv.COLOR_BGR2GRAY)\n",
    "ret, img_binary = cv.threshold(img_gray, 127, 255, 0)\n",
    "contours, hierarchy = cv.findContours(img_binary, cv.RETR_LIST, cv.CHAIN_APPROX_SIMPLE)\n",
    "\n",
    "\n",
    "for cnt in contours:\n",
    "    cv.drawContours(img_color, [cnt], 0, (255, 0, 0), 3)  # blue\n",
    "\n",
    "cv.imshow(\"result\", img_color)\n",
    "\n",
    "cv.waitKey(0)\n",
    "\n",
    "\n",
    "for cnt in contours:\n",
    "\n",
    "    epsilon = 0.02 * cv.arcLength(cnt, True)\n",
    "    approx = cv.approxPolyDP(cnt, epsilon, True)\n",
    "    print( len(approx))\n",
    "\n",
    "    cv.drawContours(img_color,[approx],0,(0,255,255),5)\n",
    "\n",
    "\n",
    "cv.imshow(\"result\", img_color)\n",
    "\n",
    "cv.waitKey(0)"
   ]
  },
  {
   "cell_type": "code",
   "execution_count": 60,
   "metadata": {},
   "outputs": [],
   "source": [
    "# 다시 정리 시작\n",
    "# 이미지 전처리 절차\n",
    "# 이미지 입력 -> RGB-GRAY 변환 -> MorphGradienr(경계 이미지 추출)\n",
    "# -> Adaptrive Trheshold(잡영제거) -> MoprhClose(작은 구멍을 메우고 경계 강화)\n",
    "# -> Long Line Remove(글씨 추출에 방해되는 요소 제거) -> Contour추출"
   ]
  },
  {
   "cell_type": "code",
   "execution_count": null,
   "metadata": {},
   "outputs": [],
   "source": [
    "# 절차 변경\n",
    "# 이미지 입력 -> Long Line Remove -> RGB-Gray변환 -> MorphGradiner\n",
    "# -> Adaptive Threshold -> MorphClose -> Contour추출(최종 글자 인식 부분)"
   ]
  },
  {
   "cell_type": "code",
   "execution_count": 54,
   "metadata": {},
   "outputs": [],
   "source": [
    "# 이미지 입력\n",
    "filename = '(190621).jpg'\n",
    "image = cv.imread(filename)"
   ]
  },
  {
   "cell_type": "code",
   "execution_count": null,
   "metadata": {},
   "outputs": [],
   "source": [
    "# Long Line Remove(글씨 추출에 방해되는 요소 제거)\n",
    "# edges = cv.Canny(erosion, 50,150, apertureSize=5)\n",
    "# dst = image.copy()\n",
    "# lines = cv.HoughLines(edges, 0.8,np.pi/180,150,srn=100)\n",
    "# stn=200,min_theta=0,max_theta=np.pi\n",
    "filename = '(190621).jpg'\n",
    "image = cv.imread(filename)\n",
    "# 이미지 새로 불러오지 않으면 계속 덮어서 그림 - 자동함수만들때는 주석처리해줘야함\n",
    "\n",
    "edges = cv.Canny(image, 50,200,apertureSize=5)\n",
    "minLineLength = 1000\n",
    "maxLineGap = 60\n",
    "\n",
    "# for i in lines:\n",
    "#     rho, theta = i[0][0], i[0][1]\n",
    "#     a,b = np.cos(theta), np.sin(theta)\n",
    "#     x0,y0 = a*rho, b*rho\n",
    "    \n",
    "#     scale = image.shape[0] + image.shape[1]\n",
    "    \n",
    "#     x1 = int(x0 + scale*-b)\n",
    "#     y1 = int(y0 + scale*a)\n",
    "#     x2 = int(x0 + scale*-b)\n",
    "#     y2 = int(y0 + scale*a)\n",
    "    \n",
    "#     cv.line(dst, (x1,y1),(x2,y2),(0,0,255),2)\n",
    "\n",
    "\n",
    "lines = cv.HoughLinesP(edges,1,np.pi/360,100,minLineLength,maxLineGap)\n",
    "for i in range(len(lines)):\n",
    "    for x1,y1,x2,y2 in lines[i]:\n",
    "        cv.line(image,(x1,y1),(x2,y2),(255,255,255),10)"
   ]
  },
  {
   "cell_type": "code",
   "execution_count": null,
   "metadata": {},
   "outputs": [],
   "source": [
    "cv.imwrite('C:\\\\Labor\\\\test_line.jpg', image)"
   ]
  },
  {
   "cell_type": "code",
   "execution_count": 10,
   "metadata": {},
   "outputs": [],
   "source": [
    "cv.imshow('img1',image)\n",
    "cv.waitKey(0)\n",
    "cv.destroyAllWindows()\n",
    "# 선제거는 더 보완이 필요"
   ]
  },
  {
   "cell_type": "code",
   "execution_count": 40,
   "metadata": {},
   "outputs": [],
   "source": [
    "# RGB - Gray 변환\n",
    "img2gray = cv.cvtColor(image, cv.COLOR_BGR2GRAY)\n",
    "\n",
    "ret, mask = cv.threshold(img2gray, 80,255,cv.THRESH_BINARY)\n",
    "image_final = cv.bitwise_and(img2gray, img2gray, mask=mask)\n",
    "ret, new_img = cv.threshold(image_final, 80,255,cv.THRESH_BINARY)"
   ]
  },
  {
   "cell_type": "code",
   "execution_count": 56,
   "metadata": {},
   "outputs": [],
   "source": [
    "# Morph Gradient(경계 이미지 추출)\n",
    "kernel = cv.getStructuringElement(cv.MORPH_CROSS,(11,11))\n",
    "\n",
    "dilation = cv.dilate(new_img, kernel, iterations=5)\n",
    "erosion = cv.erode(new_img,kernel, iterations=6)\n",
    "result = cv.morphologyEx(image, cv.MORPH_GRADIENT, kernel)"
   ]
  },
  {
   "cell_type": "code",
   "execution_count": null,
   "metadata": {},
   "outputs": [],
   "source": [
    "cv.imshow('result', result)\n",
    "cv.waitKey()"
   ]
  },
  {
   "cell_type": "code",
   "execution_count": 42,
   "metadata": {
    "scrolled": true
   },
   "outputs": [
    {
     "data": {
      "image/png": "[encoded data removed]",
      "text/plain": [
       "<Figure size 432x288 with 3 Axes>"
      ]
     },
     "metadata": {},
     "output_type": "display_data"
    }
   ],
   "source": [
    "# 이미지 확인 작업\n",
    "images = [dilation, erosion, result]\n",
    "for i in range(3):\n",
    "    plt.subplot(2,3,i+1),plt.imshow(images[i],'gray')\n",
    "    plt.xticks([]),plt.yticks([])\n",
    "\n",
    "plt.show()"
   ]
  },
  {
   "cell_type": "code",
   "execution_count": null,
   "metadata": {},
   "outputs": [],
   "source": [
    "for i in range(3):\n",
    "    cv.imwrite('C:\\\\Labor\\\\test{}.jpg'.format(i), images[i])"
   ]
  },
  {
   "cell_type": "code",
   "execution_count": null,
   "metadata": {},
   "outputs": [],
   "source": [
    "# Adaptrive Trheshold(잡영제거)"
   ]
  },
  {
   "cell_type": "code",
   "execution_count": null,
   "metadata": {},
   "outputs": [],
   "source": [
    "# MoprhClose(작은 구멍을 메우고 경계 강화)"
   ]
  },
  {
   "cell_type": "code",
   "execution_count": 57,
   "metadata": {},
   "outputs": [],
   "source": [
    "# Contour추출\n",
    "contours, hierarchy = cv.findContours(erosion, cv.RETR_LIST, cv.CHAIN_APPROX_NONE)"
   ]
  },
  {
   "cell_type": "code",
   "execution_count": 58,
   "metadata": {},
   "outputs": [],
   "source": [
    "# Contour 부분 박스쳐서 이미지 인식 부분 확인하기\n",
    "for contour in contours:\n",
    "        # get rectangle bounding contour\n",
    "        [x, y, w, h] = cv.boundingRect(contour)\n",
    "\n",
    "        # Don't plot small false positives that aren't text\n",
    "        if w < 35 and h < 35:\n",
    "            continue\n",
    "\n",
    "        # draw rectangle around contour on original image\n",
    "        cv.rectangle(image, (x, y), (x + w, y + h), (255, 0, 255), 2)"
   ]
  },
  {
   "cell_type": "code",
   "execution_count": null,
   "metadata": {},
   "outputs": [],
   "source": [
    "cv.imshow('captcha_result', image)\n",
    "cv.waitKey()"
   ]
  },
  {
   "cell_type": "code",
   "execution_count": 59,
   "metadata": {},
   "outputs": [
    {
     "data": {
      "text/plain": [
       "True"
      ]
     },
     "execution_count": 59,
     "metadata": {},
     "output_type": "execute_result"
    }
   ],
   "source": [
    "cv.imwrite('C:\\\\Labor\\\\test.jpg', image)"
   ]
  }
 ],
 "metadata": {
  "kernelspec": {
   "display_name": "Python 3",
   "language": "python",
   "name": "python3"
  },
  "language_info": {
   "codemirror_mode": {
    "name": "ipython",
    "version": 3
   },
   "file_extension": ".py",
   "mimetype": "text/x-python",
   "name": "python",
   "nbconvert_exporter": "python",
   "pygments_lexer": "ipython3",
   "version": "3.7.8"
  }
 },
 "nbformat": 4,
 "nbformat_minor": 2
}
