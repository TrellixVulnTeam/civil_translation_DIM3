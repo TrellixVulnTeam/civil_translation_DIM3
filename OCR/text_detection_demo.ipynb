{
 "cells": [
  {
   "cell_type": "code",
   "execution_count": null,
   "metadata": {},
   "outputs": [],
   "source": [
    "!python -m pip install opencv-python"
   ]
  },
  {
   "cell_type": "code",
   "execution_count": null,
   "metadata": {},
   "outputs": [],
   "source": [
    "!pip install pytesseract"
   ]
  },
  {
   "cell_type": "code",
   "execution_count": 1,
   "metadata": {},
   "outputs": [],
   "source": [
    "import cv2 as cv\n",
    "import numpy as np\n",
    "from matplotlib import pyplot as plt\n",
    "from PIL import Image\n",
    "import configparser\n",
    "import os"
   ]
  },
  {
   "cell_type": "code",
   "execution_count": 22,
   "metadata": {},
   "outputs": [],
   "source": [
    "import pytesseract\n",
    "pytesseract.pytesseract.tesseract_cmd = 'C:/Program Files/Tesseract-OCR/tesseract'\n",
    "# pytersseract 설치경로 설정해주어야 함"
   ]
  },
  {
   "cell_type": "code",
   "execution_count": null,
   "metadata": {},
   "outputs": [],
   "source": [
    "# # 4버전이랑 3버전이랑 코드가 다름\n",
    "# OpenCV 4.x\n",
    "# contours, hierarchy = cv.findContours(img_binary, cv.RETR_LIST, cv.CHAIN_APPROX_SIMPLE)\n",
    "# OpenCV 3.x\n",
    "# _, contours, hierarchy = cv.findContours(img_binary, cv.RETR_LIST, cv.CHAIN_APPROX_SIMPLE)"
   ]
  },
  {
   "cell_type": "code",
   "execution_count": null,
   "metadata": {},
   "outputs": [],
   "source": [
    "# opencv 기본코드들\n",
    "\n",
    "# 이미지 불러오기 \n",
    "img_color = cv.imread('test.png')\n",
    "\n",
    "# 이미지 흑백전환\n",
    "img_gray = cv.cvtColor(img_color, cv.COLOR_BGR2GRAY)\n",
    "\n",
    "# 임계점 설정(threshold)\n",
    "ret, img_binary = cv.threshold(img_gray, 127, 255, 0)\n",
    "\n",
    "# Contours 추출\n",
    "contours, hierarchy = cv.findContours(img_binary, cv.RETR_LIST, cv.CHAIN_APPROX_SIMPLE)\n",
    "\n",
    "# Contours 박스 그리기\n",
    "for cnt in contours:\n",
    "    cv.drawContours(img_color, [cnt], 0, (255, 0, 0), 3)  # blue\n",
    "\n",
    "\n",
    "# 이미지 보여주기와 아웃은 같이 써야 jupyter notebook kernel 이 터지지 않음    \n",
    "# 이미지 보여주기\n",
    "cv.imshow(\"result1\", img_color)\n",
    "\n",
    "# 이미지 아웃\n",
    "cv.waitKey(0)\n",
    "\n",
    "# 이미지에서 특정 직선 좌표 찾기\n",
    "cv.HoughLinesP(image, rho, theta, threshod, minLineLength, MaxLineGap)\n",
    "\n",
    "# 이미지 선분 그리기\n",
    "# 호프변환에서 얻은 좌표를 다음 line함수에 대입\n",
    "# start/end point의 좌표는 (x,y)형식 color=BGR(0,0,0)~(255,255,255)\n",
    "cv.line(img, start_point, end_point, color, thickness)\n",
    "\n",
    "# # # 이거 뭔지 모르겠다\n",
    "# for cnt in contours:\n",
    "#     area = cv.contourArea(cnt)\n",
    "#     print(area)"
   ]
  },
  {
   "cell_type": "code",
   "execution_count": null,
   "metadata": {},
   "outputs": [],
   "source": [
    "# 연습 - 이미지도 같이 첨부하겠음\n",
    "img_color = cv.imread('square.png')\n",
    "img_gray = cv.cvtColor(img_color, cv.COLOR_BGR2GRAY)\n",
    "ret, img_binary = cv.threshold(img_gray, 127, 255, 0)\n",
    "contours, hierarchy = cv.findContours(img_binary, cv.RETR_LIST, cv.CHAIN_APPROX_SIMPLE)\n",
    "\n",
    "\n",
    "for cnt in contours:\n",
    "    cv.drawContours(img_color, [cnt], 0, (255, 0, 0), 3)  # blue\n",
    "\n",
    "cv.imshow(\"result\", img_color)\n",
    "\n",
    "cv.waitKey(0)\n",
    "\n",
    "\n",
    "for cnt in contours:\n",
    "\n",
    "    epsilon = 0.02 * cv.arcLength(cnt, True)\n",
    "    approx = cv.approxPolyDP(cnt, epsilon, True)\n",
    "    print( len(approx))\n",
    "\n",
    "    cv.drawContours(img_color,[approx],0,(0,255,255),5)\n",
    "\n",
    "\n",
    "cv.imshow(\"result\", img_color)\n",
    "\n",
    "cv.waitKey(0)"
   ]
  },
  {
   "cell_type": "code",
   "execution_count": null,
   "metadata": {},
   "outputs": [],
   "source": [
    "# 다시 정리 시작\n",
    "# 이미지 전처리 절차\n",
    "# 이미지 입력 -> RGB-GRAY 변환 -> MorphGradienr(경계 이미지 추출)\n",
    "# -> Adaptrive Trheshold(잡영제거) -> MoprhClose(작은 구멍을 메우고 경계 강화)\n",
    "# -> Long Line Remove(글씨 추출에 방해되는 요소 제거) -> Contour추출"
   ]
  },
  {
   "cell_type": "code",
   "execution_count": null,
   "metadata": {},
   "outputs": [],
   "source": [
    "# 절차 변경\n",
    "# 이미지 입력 -> Long Line Remove -> RGB-Gray변환 -> MorphGradiner\n",
    "# -> Adaptive Threshold -> MorphClose -> Contour추출(최종 글자 인식 부분)"
   ]
  },
  {
   "cell_type": "code",
   "execution_count": null,
   "metadata": {},
   "outputs": [],
   "source": [
    "# 이미지 입력\n",
    "filename = 'test.jpg'\n",
    "image = cv.imread(filename)"
   ]
  },
  {
   "cell_type": "code",
   "execution_count": 13,
   "metadata": {},
   "outputs": [
    {
     "data": {
      "text/plain": [
       "True"
      ]
     },
     "execution_count": 13,
     "metadata": {},
     "output_type": "execute_result"
    }
   ],
   "source": [
    "# Long Line Remove(글씨 추출에 방해되는 요소 제거)\n",
    "# edges = cv.Canny(erosion, 50,150, apertureSize=5)\n",
    "# dst = image.copy()\n",
    "# lines = cv.HoughLines(edges, 0.8,np.pi/180,150,srn=100)\n",
    "# stn=200,min_theta=0,max_theta=np.pi\n",
    "filename = 'test.jpg'\n",
    "image = cv.imread(filename)\n",
    "# 이미지 새로 불러오지 않으면 계속 덮어서 그림 - 자동함수만들때는 주석처리해줘야함\n",
    "\n",
    "edges = cv.Canny(image, 50, 200,apertureSize=3)\n",
    "minLineLength = 1000\n",
    "maxLineGap = 60\n",
    "\n",
    "# for i in lines:\n",
    "#     rho, theta = i[0][0], i[0][1]\n",
    "#     a,b = np.cos(theta), np.sin(theta)\n",
    "#     x0,y0 = a*rho, b*rho\n",
    "    \n",
    "#     scale = image.shape[0] + image.shape[1]\n",
    "    \n",
    "#     x1 = int(x0 + scale*-b)\n",
    "#     y1 = int(y0 + scale*a)\n",
    "#     x2 = int(x0 + scale*-b)\n",
    "#     y2 = int(y0 + scale*a)\n",
    "    \n",
    "#     cv.line(dst, (x1,y1),(x2,y2),(0,0,255),2)\n",
    "\n",
    "\n",
    "lines = cv.HoughLinesP(edges,1,np.pi/360,100,minLineLength,maxLineGap)\n",
    "for i in range(len(lines)):\n",
    "    for x1,y1,x2,y2 in lines[i]:\n",
    "#         print(x1,y1,x2,y2)\n",
    "#         gapy = y2 - y1\n",
    "#         gapx = x2 - x1\n",
    "#         if(gapy > 0):\n",
    "        cv.line(image,(x1,y1),(x2,y2),(255,255,255),10)\n",
    "cv.imwrite('C:\\\\Users\\\\JSW\\\\temp_memory\\\\test_line.jpg', image)"
   ]
  },
  {
   "cell_type": "code",
   "execution_count": null,
   "metadata": {},
   "outputs": [],
   "source": []
  },
  {
   "cell_type": "code",
   "execution_count": 3,
   "metadata": {},
   "outputs": [
    {
     "data": {
      "text/plain": [
       "True"
      ]
     },
     "execution_count": 3,
     "metadata": {},
     "output_type": "execute_result"
    }
   ],
   "source": [
    "cv.imwrite('C:\\\\Users\\\\JSW\\\\temp_memory\\\\test_line.jpg', image)"
   ]
  },
  {
   "cell_type": "code",
   "execution_count": null,
   "metadata": {},
   "outputs": [],
   "source": [
    "cv.imshow('img1',image)\n",
    "cv.waitKey(0)\n",
    "cv.destroyAllWindows()\n",
    "# 선제거는 더 보완이 필요"
   ]
  },
  {
   "cell_type": "code",
   "execution_count": null,
   "metadata": {},
   "outputs": [],
   "source": [
    "# RGB - Gray 변환\n",
    "img2gray = cv.cvtColor(image, cv.COLOR_BGR2GRAY)\n",
    "\n",
    "# global\n",
    "ret, mask = cv.threshold(img2gray, 127,255,cv.THRESH_BINARY)\n",
    "\n",
    "# mean\n",
    "th2 = cv.adaptiveThreshold(img2gray, 255, cv.ADAPTIVE_THRESH_MEAN_C, cv.THRESH_BINARY, 15, 2)\n",
    "\n",
    "image_final = cv.bitwise_and(img2gray, img2gray, mask=mask)\n",
    "\n",
    "new_img = th2\n",
    "# ret, new_img = cv.threshold(image_final, 127,255,cv.THRESH_BINARY)"
   ]
  },
  {
   "cell_type": "code",
   "execution_count": null,
   "metadata": {},
   "outputs": [],
   "source": [
    "# Morph Gradient(경계 이미지 추출)\n",
    "kernel = cv.getStructuringElement(cv.MORPH_CROSS,(5,3))\n",
    "\n",
    "dilation = cv.dilate(new_img, kernel, iterations=5)\n",
    "erosion = cv.erode(new_img,kernel, iterations=6)\n",
    "result = cv.morphologyEx(image, cv.MORPH_GRADIENT, kernel)"
   ]
  },
  {
   "cell_type": "code",
   "execution_count": null,
   "metadata": {},
   "outputs": [],
   "source": [
    "cv.imshow('result', result)\n",
    "cv.waitKey()"
   ]
  },
  {
   "cell_type": "code",
   "execution_count": null,
   "metadata": {
    "scrolled": false
   },
   "outputs": [],
   "source": [
    "# 이미지 확인 작업\n",
    "images = [dilation, erosion, result]\n",
    "for i in range(3):\n",
    "    plt.subplot(2,3,i+1),plt.imshow(images[i],'gray')\n",
    "    plt.xticks([]),plt.yticks([])\n",
    "\n",
    "plt.show()"
   ]
  },
  {
   "cell_type": "code",
   "execution_count": null,
   "metadata": {},
   "outputs": [],
   "source": [
    "for i in range(3):\n",
    "    cv.imwrite('C:\\\\Users\\\\JSW\\\\temp_memory\\\\test{}.jpg'.format(i), images[i])"
   ]
  },
  {
   "cell_type": "code",
   "execution_count": null,
   "metadata": {},
   "outputs": [],
   "source": [
    "# Adaptrive Trheshold(잡영제거)"
   ]
  },
  {
   "cell_type": "code",
   "execution_count": null,
   "metadata": {},
   "outputs": [],
   "source": [
    "# MoprhClose(작은 구멍을 메우고 경계 강화)"
   ]
  },
  {
   "cell_type": "code",
   "execution_count": null,
   "metadata": {},
   "outputs": [],
   "source": [
    "# Contour추출\n",
    "contours, hierarchy = cv.findContours(erosion, cv.RETR_LIST, cv.CHAIN_APPROX_NONE)"
   ]
  },
  {
   "cell_type": "code",
   "execution_count": null,
   "metadata": {},
   "outputs": [],
   "source": [
    "# Contour 부분 박스쳐서 이미지 인식 부분 확인하기\n",
    "for contour in contours:\n",
    "        # get rectangle bounding contour\n",
    "        [x, y, w, h] = cv.boundingRect(contour)\n",
    "\n",
    "        # Don't plot small false positives that aren't text\n",
    "        if w < 35 and h < 35:\n",
    "            continue\n",
    "\n",
    "        # draw rectangle around contour on original image\n",
    "        cv.rectangle(image, (x, y), (x + w, y + h), (255, 0, 255), 2)"
   ]
  },
  {
   "cell_type": "code",
   "execution_count": null,
   "metadata": {},
   "outputs": [],
   "source": [
    "cv.imshow('captcha_result', image)\n",
    "cv.waitKey()"
   ]
  },
  {
   "cell_type": "code",
   "execution_count": null,
   "metadata": {},
   "outputs": [],
   "source": [
    "cv.imwrite('C:\\\\Users\\\\JSW\\\\temp_memory\\\\test.jpg', image)"
   ]
  },
  {
   "cell_type": "code",
   "execution_count": null,
   "metadata": {},
   "outputs": [],
   "source": [
    "result2 = 255 - cv.bitwise_and(dilation, mask)\n",
    "data = pytesseract.image_to_string(result, lang='kor',config='--psm 6')\n",
    "print(data)"
   ]
  },
  {
   "cell_type": "code",
   "execution_count": null,
   "metadata": {},
   "outputs": [],
   "source": [
    "data = pytesseract.image_to_string(image, lang='kor', config='--psm 6')\n",
    "print(data)"
   ]
  },
  {
   "cell_type": "code",
   "execution_count": 14,
   "metadata": {},
   "outputs": [],
   "source": [
    "# 이미지 입력\n",
    "filename = 'eng_test.jpg'\n",
    "image = cv.imread(filename)"
   ]
  },
  {
   "cell_type": "code",
   "execution_count": 15,
   "metadata": {},
   "outputs": [],
   "source": [
    "hsv = cv.cvtColor(image, cv.COLOR_BGR2HSV)\n",
    "lower = np.array([0, 0, 218])\n",
    "upper = np.array([157, 54, 255])\n",
    "mask = cv.inRange(hsv, lower, upper)"
   ]
  },
  {
   "cell_type": "code",
   "execution_count": 16,
   "metadata": {},
   "outputs": [
    {
     "data": {
      "text/plain": [
       "True"
      ]
     },
     "execution_count": 16,
     "metadata": {},
     "output_type": "execute_result"
    }
   ],
   "source": [
    "th2 = cv.adaptiveThreshold(mask, 255, cv.ADAPTIVE_THRESH_MEAN_C, cv.THRESH_BINARY, 15, 2)\n",
    "cv.imwrite('C:\\\\Users\\\\JSW\\\\temp_memory\\\\test_th_mean.jpg', th2)"
   ]
  },
  {
   "cell_type": "code",
   "execution_count": 17,
   "metadata": {},
   "outputs": [
    {
     "data": {
      "text/plain": [
       "True"
      ]
     },
     "execution_count": 17,
     "metadata": {},
     "output_type": "execute_result"
    }
   ],
   "source": [
    "# test\n",
    "cv.imwrite('C:\\\\Users\\\\JSW\\\\temp_memory\\\\test_mask.jpg', mask)"
   ]
  },
  {
   "cell_type": "code",
   "execution_count": 18,
   "metadata": {},
   "outputs": [],
   "source": [
    "kernel = cv.getStructuringElement(cv.MORPH_RECT, (5,3))\n",
    "dilate = cv.dilate(mask, kernel, iterations=5)\n",
    "erosion = cv.erode(mask, kernel, iterations=7)"
   ]
  },
  {
   "cell_type": "code",
   "execution_count": 19,
   "metadata": {},
   "outputs": [],
   "source": [
    "cnts = cv.findContours(dilate, cv.RETR_EXTERNAL, cv.CHAIN_APPROX_SIMPLE)\n",
    "cnts = cnts[0] if len(cnts) == 2 else cnts[1]\n",
    "for c in cnts:\n",
    "    x,y,w,h = cv.boundingRect(c)\n",
    "    ar = w / float(h)\n",
    "    if ar < 5:\n",
    "        cv.drawContours(dilate, [c], -1, (0,0,0), -1)"
   ]
  },
  {
   "cell_type": "code",
   "execution_count": 20,
   "metadata": {},
   "outputs": [
    {
     "data": {
      "text/plain": [
       "True"
      ]
     },
     "execution_count": 20,
     "metadata": {},
     "output_type": "execute_result"
    }
   ],
   "source": [
    "# test\n",
    "cv.imwrite('C:\\\\Users\\\\JSW\\\\temp_memory\\\\test_dilate_2.jpg', dilate)\n",
    "cv.imwrite('C:\\\\Users\\\\JSW\\\\temp_memory\\\\test_erosion.jpg', erosion)"
   ]
  },
  {
   "cell_type": "code",
   "execution_count": 23,
   "metadata": {},
   "outputs": [
    {
     "name": "stdout",
     "output_type": "stream",
     "text": [
      "All women become\n",
      "like their mothers.\n",
      "That is their tragedy.\n",
      "No man does.\n",
      "\n",
      "That's his.\n",
      "\n",
      "OSCAR WILDE\n",
      "\f",
      "\n"
     ]
    },
    {
     "data": {
      "text/plain": [
       "True"
      ]
     },
     "execution_count": 23,
     "metadata": {},
     "output_type": "execute_result"
    }
   ],
   "source": [
    "# Bitwise dilated image with mask, invert, then OCR\n",
    "result = 255 - cv.bitwise_and(dilate, mask)\n",
    "data = pytesseract.image_to_string(result, lang='eng',config='--psm 6')\n",
    "print(data)\n",
    "cv.imwrite('C:\\\\Users\\\\JSW\\\\temp_memory\\\\test_result.jpg', result)"
   ]
  },
  {
   "cell_type": "code",
   "execution_count": null,
   "metadata": {},
   "outputs": [],
   "source": [
    "# 그러니까 원본이미지에서 hsv를 통해서 색깔을 맞춰서 다 흑백으로 맞춘다\n",
    "# 흑백으로 맞춘거에서 dilate를 통해서 하얀부분을 다뭉갠다\n",
    "# 그리고 적절한 함수 설정을 통해서 findcoutours, 글자가 아닌것으로 생각되는 부분 삭제\n",
    "# 그러면 이제 뭉개진부분에서 남는 하얀부분들이 글자부분\n",
    "# 그거를 mask 원본 마스크를 통해서 겹치는 하얀부분 - 즉, 글자 부분만 나온다\n",
    "# 하양(255)이 글자라서 인식을 못하니까 255에서 빼줘서 검정색으로 나오게한다\n",
    "# 그러면 이미지에서 글자부분만 검출이 되니까 이거를 tesseract로 읽으면 된다\n"
   ]
  },
  {
   "cell_type": "code",
   "execution_count": 24,
   "metadata": {},
   "outputs": [],
   "source": [
    "# 이미지 입력\n",
    "filename = 'test.jpg'\n",
    "image = cv.imread(filename)"
   ]
  },
  {
   "cell_type": "code",
   "execution_count": 25,
   "metadata": {},
   "outputs": [
    {
     "data": {
      "text/plain": [
       "True"
      ]
     },
     "execution_count": 25,
     "metadata": {},
     "output_type": "execute_result"
    }
   ],
   "source": [
    "# RGB - Gray 변환\n",
    "img2gray = cv.cvtColor(image, cv.COLOR_BGR2GRAY)\n",
    "cv.imwrite('C:\\\\Users\\\\JSW\\\\temp_memory\\\\test_2gray.jpg', img2gray)"
   ]
  },
  {
   "cell_type": "code",
   "execution_count": 26,
   "metadata": {},
   "outputs": [
    {
     "data": {
      "text/plain": [
       "True"
      ]
     },
     "execution_count": 26,
     "metadata": {},
     "output_type": "execute_result"
    }
   ],
   "source": [
    "sample = 255 - img2gray\n",
    "cv.imwrite('C:\\\\Users\\\\JSW\\\\temp_memory\\\\test_sample.jpg', sample)"
   ]
  },
  {
   "cell_type": "code",
   "execution_count": 27,
   "metadata": {},
   "outputs": [],
   "source": [
    "kernel = cv.getStructuringElement(cv.MORPH_RECT, (5,3))\n",
    "dilate = cv.dilate(sample, kernel, iterations=5)\n",
    "erosion = cv.erode(sample, kernel, iterations=7)"
   ]
  },
  {
   "cell_type": "code",
   "execution_count": 28,
   "metadata": {},
   "outputs": [
    {
     "data": {
      "text/plain": [
       "True"
      ]
     },
     "execution_count": 28,
     "metadata": {},
     "output_type": "execute_result"
    }
   ],
   "source": [
    "cv.imwrite('C:\\\\Users\\\\JSW\\\\temp_memory\\\\test_dilate_2_kr.jpg', dilate)\n",
    "cv.imwrite('C:\\\\Users\\\\JSW\\\\temp_memory\\\\test_erosion_kr.jpg', erosion)"
   ]
  },
  {
   "cell_type": "code",
   "execution_count": 29,
   "metadata": {},
   "outputs": [
    {
     "data": {
      "text/plain": [
       "True"
      ]
     },
     "execution_count": 29,
     "metadata": {},
     "output_type": "execute_result"
    }
   ],
   "source": [
    "cnts = cv.findContours(dilate, cv.RETR_EXTERNAL, cv.CHAIN_APPROX_SIMPLE)\n",
    "cnts = cnts[0] if len(cnts) == 2 else cnts[1]\n",
    "for c in cnts:\n",
    "    x,y,w,h = cv.boundingRect(c)\n",
    "    ar = w / float(h)\n",
    "    if ar < 2:\n",
    "        cv.drawContours(dilate, [c], -1, (0,0,0), -1)\n",
    "cv.imwrite('C:\\\\Users\\\\JSW\\\\temp_memory\\\\test_dilate_kr.jpg', dilate)"
   ]
  },
  {
   "cell_type": "code",
   "execution_count": 30,
   "metadata": {},
   "outputs": [
    {
     "name": "stdout",
     "output_type": "stream",
     "text": [
      "A1138\n",
      "셔건 번 호 [담당재 판부 (단똑)부]\n",
      "윈고(채권자)\n",
      "피고(채무자)\n",
      "셔건얘 관하여 젱바래와 피고(채무자) 주소룰 보정합니다연\n",
      "장대맵울았의 주소자 변동되지 경우애는 주소변동 없음란의 낸았/낸 표셔를\n",
      "이 자능한 재로읖 경우에았는 주소변동 있음란의 낑연/꺼곳\n",
      "재로은 주소룰 주만둥록표초븐 소명자료와 법윈얘\n",
      "맵바랍니 다욱(장대 맵울았의 주소기 변동되 지 많은 경우애도 주만둥록표초븐 등 소명자료 제출요함)\n",
      "법인 대표자의 주소로 송달장소를 보정할 경우얘는 주소변동 있음란의 빰에바 낸점/낸 표셔와\n",
      "합깨 재로온 송달장소를 셔면올 대표자의 주빈등록표 초븐 둥의 소명자료와\n",
      "합깨 법왼얘 체출하셔기\n",
      "장대맵울빵이 종전얘 적어 그대로 거주하고 있오면 재송달신청 란의 낑염/낸\n",
      "셔면올 주만둥록표 초븐 소명자료와 합깨 법윈얘 제출하셔기\n",
      "페문부재 등오로 송달되지 많는 특별송달(집 행관송달 또는\n",
      "때애는 특별송달신청 란의 낸았/낸 표셔룰 하고꺼 통합송달\n",
      "휴일송달 중 회빰욱았하는 란의 빰에바도 낑았/낸 표셔룰 후꺼 셔면올 주만둥록표\n",
      "소명자료와 합깨 법윈얘 제출하셔기 맵바랍니다(톡별송달애 펄요한 송달료 추기납부\n",
      "와 관련된 문의는 재판부 또는 접수계로 하셔기 맵바랍니다)욱\n",
      "통합송달은 채권자자 복수의 송달맵울았법(주간송달끼 야간송달 휴일송달)올 신청할\n",
      "수 있는 집행관송달 맵울빵식올 말합니 다욱\n",
      "공셔송달올 신청하는 때애는 공셔송달신청 란의 낑았/낸 표셔를 주만둥록말소자둥\n",
      "븐 기타 공셔송달요건올 소명 하는 자료룰 첨부하여 제출하셔기\n",
      "지급명령신청거바건의 경우얘는 거바건번호의 끄(차)끼끼 끄채권자끄끼 끄채무자꼬 표셔얘 욱표룰 하셔기\n",
      "버랍니다탐\n",
      "또는 동주빈젠터 또는 주소보정권고 둥 법윈에았셔 말행한\n",
      "장대맵연빵의 주빈등록표 교부를 신청할 있습니다(주빈등록법\n",
      "제오항 제오호끼 셔행령 제뺏조 제드향 참조)탐\n",
      "\f",
      "\n"
     ]
    },
    {
     "data": {
      "text/plain": [
       "True"
      ]
     },
     "execution_count": 30,
     "metadata": {},
     "output_type": "execute_result"
    }
   ],
   "source": [
    "result = 255 - cv.bitwise_and(dilate, sample)\n",
    "data = pytesseract.image_to_string(result, lang='kor',config='--psm 6')\n",
    "print(data)\n",
    "cv.imwrite('C:\\\\Users\\\\JSW\\\\temp_memory\\\\test_result_kr.jpg', result)"
   ]
  },
  {
   "cell_type": "code",
   "execution_count": null,
   "metadata": {},
   "outputs": [],
   "source": [
    "import re\n",
    "from string import punctuation"
   ]
  },
  {
   "cell_type": "code",
   "execution_count": null,
   "metadata": {},
   "outputs": [],
   "source": [
    "pattern1 = re.compile('[{}■「※」ㆍ√☎㎡□○◦㎥･◆￦￭▸▣♣◇←－：…………☞≫≪Ⅰ《》〈〉∨…➀Ⅲ➁‣⇨➂∙▪ⓛ‣Ⅱ․․․▲△Ｏ•×【】▶✓➡◀∼″→ㅇ⇒『』◯▼㎜×·④①②③⑤⑦⑥⑧⑨⑩⑪⑫⑬⑭⑮⑯⑰⑱｢｣◎❶❷❸❹❼❺❻]'.format(re.escape(punctuation)))\n",
    "pattern2 = re.compile(r'\\bwww\\w+(?:[.]?\\w+)+\\b')\n",
    "pattern3 = re.compile(r'[A-Za-z一-龥0-9]')\n",
    "pattern4 = re.compile(r'\\s{2,}')"
   ]
  },
  {
   "cell_type": "code",
   "execution_count": null,
   "metadata": {},
   "outputs": [],
   "source": [
    "# - todo\n",
    "# tesseract 분명히 글꼴 추가 누적 학습이 있을거임\n",
    "# 글꼴 통일하거나 글꼴 추가해서 누적 학습\n",
    "# 선제거 다시한번하기\n",
    "# 전처리 더 철저하게"
   ]
  },
  {
   "cell_type": "code",
   "execution_count": null,
   "metadata": {},
   "outputs": [],
   "source": []
  },
  {
   "cell_type": "code",
   "execution_count": null,
   "metadata": {},
   "outputs": [],
   "source": []
  },
  {
   "cell_type": "code",
   "execution_count": null,
   "metadata": {},
   "outputs": [],
   "source": []
  }
 ],
 "metadata": {
  "kernelspec": {
   "display_name": "Python 3",
   "language": "python",
   "name": "python3"
  },
  "language_info": {
   "codemirror_mode": {
    "name": "ipython",
    "version": 3
   },
   "file_extension": ".py",
   "mimetype": "text/x-python",
   "name": "python",
   "nbconvert_exporter": "python",
   "pygments_lexer": "ipython3",
   "version": "3.7.8"
  }
 },
 "nbformat": 4,
 "nbformat_minor": 2
}
