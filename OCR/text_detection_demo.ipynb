{
 "cells": [
  {
   "cell_type": "code",
   "execution_count": null,
   "metadata": {},
   "outputs": [],
   "source": [
    "!python -m pip install opencv-python"
   ]
  },
  {
   "cell_type": "code",
   "execution_count": null,
   "metadata": {},
   "outputs": [],
   "source": [
    "!pip install pytesseract"
   ]
  },
  {
   "cell_type": "code",
   "execution_count": 1,
   "metadata": {},
   "outputs": [],
   "source": [
    "import cv2 as cv\n",
    "import numpy as np\n",
    "from matplotlib import pyplot as plt\n",
    "from PIL import Image\n",
    "import configparser\n",
    "import os"
   ]
  },
  {
   "cell_type": "code",
   "execution_count": 2,
   "metadata": {},
   "outputs": [],
   "source": [
    "import pytesseract\n",
    "pytesseract.pytesseract.tesseract_cmd = 'C:/Program Files/Tesseract-OCR/tesseract'\n",
    "# pytersseract 설치경로 설정해주어야 함"
   ]
  },
  {
   "cell_type": "code",
   "execution_count": null,
   "metadata": {},
   "outputs": [],
   "source": [
    "# # 4버전이랑 3버전이랑 코드가 다름\n",
    "# OpenCV 4.x\n",
    "# contours, hierarchy = cv.findContours(img_binary, cv.RETR_LIST, cv.CHAIN_APPROX_SIMPLE)\n",
    "# OpenCV 3.x\n",
    "# _, contours, hierarchy = cv.findContours(img_binary, cv.RETR_LIST, cv.CHAIN_APPROX_SIMPLE)"
   ]
  },
  {
   "cell_type": "code",
   "execution_count": null,
   "metadata": {},
   "outputs": [],
   "source": [
    "# opencv 기본코드들\n",
    "\n",
    "# 이미지 불러오기 \n",
    "img_color = cv.imread('test.png')\n",
    "\n",
    "# 이미지 흑백전환\n",
    "img_gray = cv.cvtColor(img_color, cv.COLOR_BGR2GRAY)\n",
    "\n",
    "# 임계점 설정(threshold)\n",
    "ret, img_binary = cv.threshold(img_gray, 127, 255, 0)\n",
    "\n",
    "# Contours 추출\n",
    "contours, hierarchy = cv.findContours(img_binary, cv.RETR_LIST, cv.CHAIN_APPROX_SIMPLE)\n",
    "\n",
    "# Contours 박스 그리기\n",
    "for cnt in contours:\n",
    "    cv.drawContours(img_color, [cnt], 0, (255, 0, 0), 3)  # blue\n",
    "\n",
    "\n",
    "# 이미지 보여주기와 아웃은 같이 써야 jupyter notebook kernel 이 터지지 않음    \n",
    "# 이미지 보여주기\n",
    "cv.imshow(\"result1\", img_color)\n",
    "\n",
    "# 이미지 아웃\n",
    "cv.waitKey(0)\n",
    "\n",
    "# 이미지에서 특정 직선 좌표 찾기\n",
    "cv.HoughLinesP(image, rho, theta, threshod, minLineLength, MaxLineGap)\n",
    "\n",
    "# 이미지 선분 그리기\n",
    "# 호프변환에서 얻은 좌표를 다음 line함수에 대입\n",
    "# start/end point의 좌표는 (x,y)형식 color=BGR(0,0,0)~(255,255,255)\n",
    "cv.line(img, start_point, end_point, color, thickness)\n",
    "\n",
    "# # # 이거 뭔지 모르겠다\n",
    "# for cnt in contours:\n",
    "#     area = cv.contourArea(cnt)\n",
    "#     print(area)"
   ]
  },
  {
   "cell_type": "code",
   "execution_count": null,
   "metadata": {},
   "outputs": [],
   "source": [
    "# 연습 - 이미지도 같이 첨부하겠음\n",
    "img_color = cv.imread('square.png')\n",
    "img_gray = cv.cvtColor(img_color, cv.COLOR_BGR2GRAY)\n",
    "ret, img_binary = cv.threshold(img_gray, 127, 255, 0)\n",
    "contours, hierarchy = cv.findContours(img_binary, cv.RETR_LIST, cv.CHAIN_APPROX_SIMPLE)\n",
    "\n",
    "\n",
    "for cnt in contours:\n",
    "    cv.drawContours(img_color, [cnt], 0, (255, 0, 0), 3)  # blue\n",
    "\n",
    "cv.imshow(\"result\", img_color)\n",
    "\n",
    "cv.waitKey(0)\n",
    "\n",
    "\n",
    "for cnt in contours:\n",
    "\n",
    "    epsilon = 0.02 * cv.arcLength(cnt, True)\n",
    "    approx = cv.approxPolyDP(cnt, epsilon, True)\n",
    "    print( len(approx))\n",
    "\n",
    "    cv.drawContours(img_color,[approx],0,(0,255,255),5)\n",
    "\n",
    "\n",
    "cv.imshow(\"result\", img_color)\n",
    "\n",
    "cv.waitKey(0)"
   ]
  },
  {
   "cell_type": "code",
   "execution_count": null,
   "metadata": {},
   "outputs": [],
   "source": [
    "# 다시 정리 시작\n",
    "# 이미지 전처리 절차\n",
    "# 이미지 입력 -> RGB-GRAY 변환 -> MorphGradienr(경계 이미지 추출)\n",
    "# -> Adaptrive Trheshold(잡영제거) -> MoprhClose(작은 구멍을 메우고 경계 강화)\n",
    "# -> Long Line Remove(글씨 추출에 방해되는 요소 제거) -> Contour추출"
   ]
  },
  {
   "cell_type": "code",
   "execution_count": null,
   "metadata": {},
   "outputs": [],
   "source": [
    "# 절차 변경\n",
    "# 이미지 입력 -> Long Line Remove -> RGB-Gray변환 -> MorphGradiner\n",
    "# -> Adaptive Threshold -> MorphClose -> Contour추출(최종 글자 인식 부분)"
   ]
  },
  {
   "cell_type": "code",
   "execution_count": 27,
   "metadata": {},
   "outputs": [],
   "source": [
    "# 이미지 입력\n",
    "filename = 'test.jpg'\n",
    "image = cv.imread(filename)"
   ]
  },
  {
   "cell_type": "code",
   "execution_count": 44,
   "metadata": {},
   "outputs": [
    {
     "data": {
      "text/plain": [
       "True"
      ]
     },
     "execution_count": 44,
     "metadata": {},
     "output_type": "execute_result"
    }
   ],
   "source": [
    "# Long Line Remove(글씨 추출에 방해되는 요소 제거)\n",
    "# edges = cv.Canny(erosion, 50,150, apertureSize=5)\n",
    "# dst = image.copy()\n",
    "# lines = cv.HoughLines(edges, 0.8,np.pi/180,150,srn=100)\n",
    "# stn=200,min_theta=0,max_theta=np.pi\n",
    "filename = 'test.jpg'\n",
    "image = cv.imread(filename)\n",
    "# 이미지 새로 불러오지 않으면 계속 덮어서 그림 - 자동함수만들때는 주석처리해줘야함\n",
    "\n",
    "edges = cv.Canny(image, 50, 200,apertureSize=3)\n",
    "minLineLength = 100 # 1000\n",
    "maxLineGap = 80 # 60\n",
    "\n",
    "# for i in lines:\n",
    "#     rho, theta = i[0][0], i[0][1]\n",
    "#     a,b = np.cos(theta), np.sin(theta)\n",
    "#     x0,y0 = a*rho, b*rho\n",
    "\n",
    "#     scale = image.shape[0] + image.shape[1]\n",
    "\n",
    "#     x1 = int(x0 + scale*-b)\n",
    "#     y1 = int(y0 + scale*a)\n",
    "#     x2 = int(x0 + scale*-b)\n",
    "#     y2 = int(y0 + scale*a)\n",
    "    \n",
    "#     cv.line(dst, (x1,y1),(x2,y2),(0,0,255),2)\n",
    "\n",
    "\n",
    "lines = cv.HoughLinesP(edges,1,np.pi/360,100,minLineLength,maxLineGap)\n",
    "for i in range(len(lines)):\n",
    "    for x1,y1,x2,y2 in lines[i]:\n",
    "#         print(x1,y1,x2,y2)\n",
    "#         gapy = y2 - y1\n",
    "#         gapx = x2 - x1\n",
    "#         if(gapy > 0):\n",
    "        cv.line(image,(x1,y1),(x2,y2),(255,255,255),10)\n",
    "cv.imwrite('C:\\\\Users\\\\JSW\\\\temp_memory\\\\test_line.jpg', image)"
   ]
  },
  {
   "cell_type": "code",
   "execution_count": 3,
   "metadata": {},
   "outputs": [
    {
     "data": {
      "text/plain": [
       "True"
      ]
     },
     "execution_count": 3,
     "metadata": {},
     "output_type": "execute_result"
    }
   ],
   "source": [
    "cv.imwrite('C:\\\\Users\\\\JSW\\\\temp_memory\\\\test_line.jpg', image)"
   ]
  },
  {
   "cell_type": "code",
   "execution_count": null,
   "metadata": {},
   "outputs": [],
   "source": [
    "cv.imshow('img1',image)\n",
    "cv.waitKey(0)\n",
    "cv.destroyAllWindows()\n",
    "# 선제거는 더 보완이 필요"
   ]
  },
  {
   "cell_type": "code",
   "execution_count": 28,
   "metadata": {},
   "outputs": [],
   "source": [
    "# RGB - Gray 변환\n",
    "img2gray = cv.cvtColor(image, cv.COLOR_BGR2GRAY)\n",
    "\n",
    "# global\n",
    "ret, mask = cv.threshold(img2gray, 127,255,cv.THRESH_BINARY)\n",
    "\n",
    "# mean\n",
    "th2 = cv.adaptiveThreshold(img2gray, 255, cv.ADAPTIVE_THRESH_MEAN_C, cv.THRESH_BINARY, 15, 2)\n",
    "\n",
    "image_final = cv.bitwise_and(img2gray, img2gray, mask=mask)\n",
    "\n",
    "new_img = th2\n",
    "# ret, new_img = cv.threshold(image_final, 127,255,cv.THRESH_BINARY)"
   ]
  },
  {
   "cell_type": "code",
   "execution_count": 37,
   "metadata": {},
   "outputs": [],
   "source": [
    "# Morph Gradient(경계 이미지 추출)\n",
    "kernel = cv.getStructuringElement(cv.MORPH_CROSS,(5,3))\n",
    "\n",
    "dilation = cv.dilate(new_img, kernel, iterations=1)\n",
    "erosion = cv.erode(new_img,kernel, iterations=3)\n",
    "result = cv.morphologyEx(image, cv.MORPH_GRADIENT, kernel)"
   ]
  },
  {
   "cell_type": "code",
   "execution_count": null,
   "metadata": {},
   "outputs": [],
   "source": [
    "cv.imshow('result', result)\n",
    "cv.waitKey()"
   ]
  },
  {
   "cell_type": "code",
   "execution_count": 38,
   "metadata": {
    "scrolled": false
   },
   "outputs": [
    {
     "data": {
      "image/png": "[encoded data removed]",
      "text/plain": [
       "<Figure size 432x288 with 3 Axes>"
      ]
     },
     "metadata": {},
     "output_type": "display_data"
    }
   ],
   "source": [
    "# 이미지 확인 작업\n",
    "images = [dilation, erosion, result]\n",
    "for i in range(3):\n",
    "    plt.subplot(2,3,i+1),plt.imshow(images[i],'gray')\n",
    "    plt.xticks([]),plt.yticks([])\n",
    "\n",
    "plt.show()"
   ]
  },
  {
   "cell_type": "code",
   "execution_count": 39,
   "metadata": {},
   "outputs": [],
   "source": [
    "for i in range(3):\n",
    "    cv.imwrite('C:\\\\Users\\\\JSW\\\\temp_memory\\\\test{}.jpg'.format(i), images[i])"
   ]
  },
  {
   "cell_type": "code",
   "execution_count": null,
   "metadata": {},
   "outputs": [],
   "source": [
    "# Adaptrive Trheshold(잡영제거)"
   ]
  },
  {
   "cell_type": "code",
   "execution_count": null,
   "metadata": {},
   "outputs": [],
   "source": [
    "# MoprhClose(작은 구멍을 메우고 경계 강화)"
   ]
  },
  {
   "cell_type": "code",
   "execution_count": null,
   "metadata": {},
   "outputs": [],
   "source": [
    "# Contour추출\n",
    "contours, hierarchy = cv.findContours(erosion, cv.RETR_LIST, cv.CHAIN_APPROX_NONE)"
   ]
  },
  {
   "cell_type": "code",
   "execution_count": null,
   "metadata": {},
   "outputs": [],
   "source": [
    "# Contour 부분 박스쳐서 이미지 인식 부분 확인하기\n",
    "for contour in contours:\n",
    "        # get rectangle bounding contour\n",
    "        [x, y, w, h] = cv.boundingRect(contour)\n",
    "\n",
    "        # Don't plot small false positives that aren't text\n",
    "        if w < 35 and h < 35:\n",
    "            continue\n",
    "\n",
    "        # draw rectangle around contour on original image\n",
    "        cv.rectangle(image, (x, y), (x + w, y + h), (255, 0, 255), 2)"
   ]
  },
  {
   "cell_type": "code",
   "execution_count": null,
   "metadata": {},
   "outputs": [],
   "source": [
    "cv.imshow('captcha_result', image)\n",
    "cv.waitKey()"
   ]
  },
  {
   "cell_type": "code",
   "execution_count": null,
   "metadata": {},
   "outputs": [],
   "source": [
    "cv.imwrite('C:\\\\Users\\\\JSW\\\\temp_memory\\\\test.jpg', image)"
   ]
  },
  {
   "cell_type": "code",
   "execution_count": null,
   "metadata": {},
   "outputs": [],
   "source": [
    "result2 = 255 - cv.bitwise_and(dilation, mask)\n",
    "data = pytesseract.image_to_string(result, lang='kor',config='--psm 6')\n",
    "print(data)"
   ]
  },
  {
   "cell_type": "code",
   "execution_count": null,
   "metadata": {},
   "outputs": [],
   "source": [
    "data = pytesseract.image_to_string(image, lang='kor', config='--psm 6')\n",
    "print(data)"
   ]
  },
  {
   "cell_type": "code",
   "execution_count": 22,
   "metadata": {},
   "outputs": [],
   "source": [
    "# 이미지 입력\n",
    "filename = 'eng_test.jpg'\n",
    "image = cv.imread(filename)"
   ]
  },
  {
   "cell_type": "code",
   "execution_count": 15,
   "metadata": {},
   "outputs": [],
   "source": [
    "hsv = cv.cvtColor(image, cv.COLOR_BGR2HSV)\n",
    "lower = np.array([0, 0, 218])\n",
    "upper = np.array([157, 54, 255])\n",
    "mask = cv.inRange(hsv, lower, upper)"
   ]
  },
  {
   "cell_type": "code",
   "execution_count": 16,
   "metadata": {},
   "outputs": [
    {
     "data": {
      "text/plain": [
       "True"
      ]
     },
     "execution_count": 16,
     "metadata": {},
     "output_type": "execute_result"
    }
   ],
   "source": [
    "th2 = cv.adaptiveThreshold(mask, 255, cv.ADAPTIVE_THRESH_MEAN_C, cv.THRESH_BINARY, 15, 2)\n",
    "cv.imwrite('C:\\\\Users\\\\JSW\\\\temp_memory\\\\test_th_mean.jpg', th2)"
   ]
  },
  {
   "cell_type": "code",
   "execution_count": 17,
   "metadata": {},
   "outputs": [
    {
     "data": {
      "text/plain": [
       "True"
      ]
     },
     "execution_count": 17,
     "metadata": {},
     "output_type": "execute_result"
    }
   ],
   "source": [
    "# test\n",
    "cv.imwrite('C:\\\\Users\\\\JSW\\\\temp_memory\\\\test_mask.jpg', mask)"
   ]
  },
  {
   "cell_type": "code",
   "execution_count": 18,
   "metadata": {},
   "outputs": [],
   "source": [
    "kernel = cv.getStructuringElement(cv.MORPH_RECT, (5,3))\n",
    "dilate = cv.dilate(mask, kernel, iterations=5)\n",
    "erosion = cv.erode(mask, kernel, iterations=7)"
   ]
  },
  {
   "cell_type": "code",
   "execution_count": 19,
   "metadata": {},
   "outputs": [],
   "source": [
    "cnts = cv.findContours(dilate, cv.RETR_EXTERNAL, cv.CHAIN_APPROX_SIMPLE)\n",
    "cnts = cnts[0] if len(cnts) == 2 else cnts[1]\n",
    "for c in cnts:\n",
    "    x,y,w,h = cv.boundingRect(c)\n",
    "    ar = w / float(h)\n",
    "    if ar < 5:\n",
    "        cv.drawContours(dilate, [c], -1, (0,0,0), -1)"
   ]
  },
  {
   "cell_type": "code",
   "execution_count": 20,
   "metadata": {},
   "outputs": [
    {
     "data": {
      "text/plain": [
       "True"
      ]
     },
     "execution_count": 20,
     "metadata": {},
     "output_type": "execute_result"
    }
   ],
   "source": [
    "# test\n",
    "cv.imwrite('C:\\\\Users\\\\JSW\\\\temp_memory\\\\test_dilate_2.jpg', dilate)\n",
    "cv.imwrite('C:\\\\Users\\\\JSW\\\\temp_memory\\\\test_erosion.jpg', erosion)"
   ]
  },
  {
   "cell_type": "code",
   "execution_count": 23,
   "metadata": {},
   "outputs": [
    {
     "name": "stdout",
     "output_type": "stream",
     "text": [
      "All women become\n",
      "like their mothers.\n",
      "That is their tragedy.\n",
      "No man does.\n",
      "\n",
      "That's his.\n",
      "\n",
      "OSCAR WILDE\n",
      "\f",
      "\n"
     ]
    },
    {
     "data": {
      "text/plain": [
       "True"
      ]
     },
     "execution_count": 23,
     "metadata": {},
     "output_type": "execute_result"
    }
   ],
   "source": [
    "# Bitwise dilated image with mask, invert, then OCR\n",
    "result = 255 - cv.bitwise_and(dilate, mask)\n",
    "data = pytesseract.image_to_string(result, lang='eng',config='--psm 6')\n",
    "print(data)\n",
    "cv.imwrite('C:\\\\Users\\\\JSW\\\\temp_memory\\\\test_result.jpg', result)"
   ]
  },
  {
   "cell_type": "code",
   "execution_count": null,
   "metadata": {},
   "outputs": [],
   "source": [
    "# 그러니까 원본이미지에서 hsv를 통해서 색깔을 맞춰서 다 흑백으로 맞춘다\n",
    "# 흑백으로 맞춘거에서 dilate를 통해서 하얀부분을 다뭉갠다\n",
    "# 그리고 적절한 함수 설정을 통해서 findcoutours, 글자가 아닌것으로 생각되는 부분 삭제\n",
    "# 그러면 이제 뭉개진부분에서 남는 하얀부분들이 글자부분\n",
    "# 그거를 mask 원본 마스크를 통해서 겹치는 하얀부분 - 즉, 글자 부분만 나온다\n",
    "# 하양(255)이 글자라서 인식을 못하니까 255에서 빼줘서 검정색으로 나오게한다\n",
    "# 그러면 이미지에서 글자부분만 검출이 되니까 이거를 tesseract로 읽으면 된다\n"
   ]
  },
  {
   "cell_type": "code",
   "execution_count": 23,
   "metadata": {},
   "outputs": [],
   "source": [
    "# 이미지 입력\n",
    "filename = 'test.jpg'\n",
    "image = cv.imread(filename)"
   ]
  },
  {
   "cell_type": "code",
   "execution_count": 4,
   "metadata": {},
   "outputs": [
    {
     "data": {
      "text/plain": [
       "True"
      ]
     },
     "execution_count": 4,
     "metadata": {},
     "output_type": "execute_result"
    }
   ],
   "source": [
    "# RGB - Gray 변환\n",
    "img2gray = cv.cvtColor(image, cv.COLOR_BGR2GRAY)\n",
    "cv.imwrite('C:\\\\Users\\\\JSW\\\\temp_memory\\\\test_2gray.jpg', img2gray)"
   ]
  },
  {
   "cell_type": "code",
   "execution_count": 5,
   "metadata": {},
   "outputs": [
    {
     "data": {
      "text/plain": [
       "True"
      ]
     },
     "execution_count": 5,
     "metadata": {},
     "output_type": "execute_result"
    }
   ],
   "source": [
    "sample = 255 - img2gray\n",
    "cv.imwrite('C:\\\\Users\\\\JSW\\\\temp_memory\\\\test_sample.jpg', sample)"
   ]
  },
  {
   "cell_type": "code",
   "execution_count": 6,
   "metadata": {},
   "outputs": [],
   "source": [
    "kernel = cv.getStructuringElement(cv.MORPH_RECT, (5,3))\n",
    "dilate = cv.dilate(sample, kernel, iterations=5)\n",
    "erosion = cv.erode(sample, kernel, iterations=7)"
   ]
  },
  {
   "cell_type": "code",
   "execution_count": 7,
   "metadata": {},
   "outputs": [
    {
     "data": {
      "text/plain": [
       "True"
      ]
     },
     "execution_count": 7,
     "metadata": {},
     "output_type": "execute_result"
    }
   ],
   "source": [
    "cv.imwrite('C:\\\\Users\\\\JSW\\\\temp_memory\\\\test_dilate_2_kr.jpg', dilate)\n",
    "cv.imwrite('C:\\\\Users\\\\JSW\\\\temp_memory\\\\test_erosion_kr.jpg', erosion)"
   ]
  },
  {
   "cell_type": "code",
   "execution_count": 8,
   "metadata": {},
   "outputs": [
    {
     "data": {
      "text/plain": [
       "True"
      ]
     },
     "execution_count": 8,
     "metadata": {},
     "output_type": "execute_result"
    }
   ],
   "source": [
    "cnts = cv.findContours(dilate, cv.RETR_EXTERNAL, cv.CHAIN_APPROX_SIMPLE)\n",
    "cnts = cnts[0] if len(cnts) == 2 else cnts[1]\n",
    "for c in cnts:\n",
    "    x,y,w,h = cv.boundingRect(c)\n",
    "    ar = w / float(h)\n",
    "    if ar < 2:\n",
    "        cv.drawContours(dilate, [c], -1, (0,0,0), -1)\n",
    "cv.imwrite('C:\\\\Users\\\\JSW\\\\temp_memory\\\\test_dilate_kr.jpg', dilate)"
   ]
  },
  {
   "cell_type": "code",
   "execution_count": 10,
   "metadata": {},
   "outputs": [
    {
     "name": "stdout",
     "output_type": "stream",
     "text": [
      "스1138\n",
      "\n",
      "사건번호                             [담당재판부        (단독)부]\n",
      "원고(채권자)\n",
      "피고(채무자)\n",
      "사건에 관하여 아래와 __ 피고(채무자)        주소를 보정합니다.\n",
      "상대방의 주소가 변동되지 경우에는 주소변동 없음란의 _ “\\” 표시를\n",
      "새로운 주소를              주민등록표초본 _ 소명자료와 __법원에\n",
      "\n",
      "바랍니다.(상대방의 주소가 변동되지 않은 경우에도 주민등록표초본 등 소명자료 제출요함)\n",
      "법인 대표자의 주소로 송달장소를 보정할 경우에는 주소변동 있음란의 [」에 “\"\\” 표시와\n",
      "\n",
      "함께 새로운 송달장소를         서면을 대표자의 주민등록표 초본 등의 소명자료와\n",
      "함께 법원에 제출하시기\n",
      "상대방이 종전에 적어        그대로 거주하고 있으면 재송달신청란의 _ㅎ“\\\"\n",
      "서면을 주민등록표 초본 _ 소명자료와 함께 법원에 제출하시기\n",
      "폐문부재 등으로 송달되지 않는      특별송달(집행관송달 또는\n",
      "때에는 특별송달신청란의 _ \"\\” 표시를 하고, 통합송달\n",
      "휴일송달 중 희망하는 란의 []에도 “<” 표시를 _ 후, 、_ 서면을 주민등록표\n",
      "\n",
      "소명자료와 함께 법원에 제출하시기 바랍니다(특별송달에 필요한 송달료 추가납부\n",
      "와 관련된 문의는 재판부 또는 접수계로 하시기 바랍니다).\n",
      "\n",
      " \n",
      "\n",
      " \n",
      "\n",
      "통합송달은 채권자가 복수의 송달방법(주간송달, 야간송달 _ 휴일송달)을      신청할\n",
      "수 있는 집행관송달 방식을 말합니다.\n",
      "공시송달을 신청하는 때에는 공시송달신청란의 _ \"\\” 표시를      주민등록말소자등\n",
      "\n",
      "본 기타 공시송달요건을 소명하는 자료를 첨부하여 제출하시기\n",
      "지급명령신청사건의 경우에는 사건번호의 \"(차)', \"채권자\", \"채무자\" 표시에 ㅇ표를 하시기\n",
      "\n",
      "바랍니다.\n",
      "\n",
      "또는 동주민센터           또는 주소보정권고 등 법원에서 발행한\n",
      "상대방의 주민등록표       교부를 신청할 _ 있습니다(주민등록법\n",
      "\n",
      "제2항 제2호,     시행령 제47조 제5항 참조).\n",
      "\f",
      "\n"
     ]
    },
    {
     "data": {
      "text/plain": [
       "True"
      ]
     },
     "execution_count": 10,
     "metadata": {},
     "output_type": "execute_result"
    }
   ],
   "source": [
    "result = 255 - cv.bitwise_and(dilate, sample)\n",
    "data = pytesseract.image_to_string(result, lang='kor',config='--psm 4')\n",
    "print(data)\n",
    "cv.imwrite('C:\\\\Users\\\\JSW\\\\temp_memory\\\\test_result_kr.jpg', result)"
   ]
  },
  {
   "cell_type": "code",
   "execution_count": 24,
   "metadata": {},
   "outputs": [
    {
     "name": "stdout",
     "output_type": "stream",
     "text": [
      "^ ㅅ 1138\n",
      "주 소 보 정 서\n",
      "\n",
      "사 건 번 호 _20 가 ( 차 ) [ 담 당 재 판 부 : 제 _ ( 단 독 ) 부 ]\n",
      "원 고 ( 채 권 자 )\n",
      "\n",
      "피 고 ( 채 무 자 )\n",
      "\n",
      "위 사 건 에 관 하 여 아 래 와 같 이 피 고 ( 채 무 자 ) 의 주 소 를 보 정 합 니 다 .\n",
      "\n",
      "주 소 변 동 없 음 종 전 에 적 어 낸 주 소 에 그 대 로 거 주 하 고 있 음\n",
      "] 주 소\n",
      "\n",
      "( 주 민 등 록 상 주 소 가\n",
      "\n",
      "변 동\n",
      "\n",
      "] 송 달 장 소\n",
      "\n",
      "( 주 민 등 록 상 주 소는\n",
      "\n",
      "변 동 없 음 )\n",
      "\n",
      " \n",
      "\n",
      " \n",
      "\n",
      " \n",
      "\n",
      "재 송 달 신 청 종 전 에 적 어 낸 주 소 로 송 달\n",
      "\n",
      " \n",
      "\n",
      " \n",
      "\n",
      " \n",
      "\n",
      "노 그 주 ㅜ 2~\n",
      ". . 통 합 송 달 ( 주 간 + 야 간 + 휴 일 ) [ ㄴ ] 주 간 송 달\n",
      "트 벽 소 다 시 칭\n",
      "\n",
      "^ 곤 ㅇ 곤 77 ㅇ\n",
      "\n",
      "소다 ㅎ 이 ] 소다\n",
      "( 특 별 송 달 료 는 지 역 에 | 느 다 득 흑 릉 . . . : . . . 니 가 열 응 롱\n",
      "따 라 차 이 가 있 을 수 | 느 흠 꼬 에 적 이루 7 소도 승 맘\n",
      "있 음 ) 새 로 운 주 소 로 숭 덜\n",
      "송 달 장 소 로 송 달\n",
      "\n",
      " \n",
      "\n",
      " \n",
      "\n",
      " \n",
      "\n",
      " \n",
      "\n",
      " \n",
      "\n",
      "즈 ㅅ ”제 0 、 -\n",
      "\n",
      "공 시 송 달 신 청 주 소 를 할 수 없 흔 르 로 공 시 송 탈 을 친 청 할\n",
      "\n",
      "ㅇ 으 른 00 (처 넘 서 근 . )\n",
      "1그 l : .\n",
      "\n",
      "원 고 0 ㅇ ㅇ )\n",
      "\n",
      " \n",
      "\n",
      " \n",
      "\n",
      "[ 주 소 보 정 요 령 ]\n",
      "\n",
      "1. 상 대 방 의 주 소 가 변 동 되 지 않 은 경 우 에 는 주 소 변 동 없 음 란 의 | 에 “\\\"” 표 시 를 하 고 , 송 달\n",
      "이 가 능 한 새 로 운 주 소 가 확 인 되 는 경 우 에 는 주 소 변 동 있 음 란 의 [] 에 “《” 표 시 와 함 께\n",
      "새 로 운 주 소 를 적 은 후 이 서 면 을 주 민 등 록 표 초 본 등 소 명 자 료 와 함 께 법 원 에 제 출 하 시기\n",
      "바 랍 니 다 .( 상 대 방 의 주 소 가 변 동 되 지 않 은 경 우 에 도 주 민 등 록 표 초 본 등 소 명 자 료 제 출 요 함 )\n",
      "\n",
      "2. 법 인 대 표 자 의 주 소 로 송 달 장 소 를 보 정 할 경 우 에 는 주 소 변 동 있 음 란 의 [|] 에 “\"\\” 표 시 와\n",
      "함 께 새 로 운 송 달 장 소 를 적 은 후 이 서 면 을 대 표 자 의 주 민 등 록 표 초 본 등 의 소 명 자 료 와\n",
      "함 께 법 원 에 제 출 하 시기 바 랍 니 다 .\n",
      "\n",
      "3. 상 대 방이 종 전 에 적 어 낸 주 소 에 그 대 로 거 주 하 고 있 으 면 재 송 달 신 청 란 의 [] 에 “\"\\\"” 표 시\n",
      "를 하 여 이 서 면 을 주 민 등 록 표 초 본 등 소 명 자 료 와 함 께 법 원 에 제 출 하 시기 바 랍 니 다 .\n",
      "\n",
      "4. 수 취 인 부 재 , 폐 문 부 재 등 으 로 송 달 되 지 않 는 경 우 에 특 별 송 달 ( 집 행 관 송 달 또 는 법 원 경 위 송\n",
      "달 ) 을 희 망 하 는 때 에 는 특 별 송 달 신 청 란 의 [| 에 “\\” 표 시 를 하 고 , 통 합 송 달 ㆍ 주 간 송 달 ㆍ 야\n",
      "간 송 달 ㆍ 휴 일 송 달 중 희 망 하 는 란 의 [] 에 도 “\\” 표 시 를 한 후 , 이 서 면 을 주 민 등 록 표 초\n",
      "본 등 의 소 명 자 료 와 함 께 법 원 에 제 출 하 시기 바 랍 니 다 ( 특 별 송 달 에 필 요 한 송 달 료 추 가 납 부\n",
      "와 관 련된 문 의 는 재 판 부 또 는 접 수 계 로 하 시기 바 랍 니 다 ).\n",
      "\n",
      "5. 통 합 송 달 은 채 권 자 가 복 수 의 송 달 방 법 ( 주 간 송 달, 야 간 송 달 및 휴 일 송 달 ) 을 한 번 에 신 청 할\n",
      "수 있 는 집 행 관 송 달 방 식 을 말 합 니 다 .\n",
      "\n",
      "6. 공 시 송 달 을 신 청 하 는 때 에 는 공 시 송 달 신 청 란 의 [] 에 “\\” 표 시 를 한 후 주 민 등 록 말 소 자 등\n",
      "본 기타 공 시 송 달 요 건 을 소 명 하 는 자 료 를 첨 부 하 여 제 출 하 시기 바 랍 니 다 .\n",
      "\n",
      "7. 지 급 명 령 신 청 사 건 의 경 우 에 는 사 건 번 호 의 \"( 차 )', \" 채 권 자 ', ' 채 무 자 ' 표 시에 ㅇ 표 를 하 시기\n",
      "바 랍 니 다 .\n",
      "\n",
      "8. 읍 ㆍ 면 사 무 소 또 는 동 주 민 센 터 등에 이 서 면 또 는 주 소 보 정 권 고 등 법 원 에 서 발 행 한 문 서\n",
      "를 제 출 하 여 상 대 방 의 주 민 등 록 표 초 본 등 의 교 부 를 신 청 할 수 있 습 니 다 ( 주 민 등 록 법 제 29\n",
      "조 제 2 항 제 2 호 , 동 법 시 행 령 제 47 조 제 5 항 참 조 ).\n",
      "\n",
      " \n",
      "\n",
      " \n",
      "\f",
      "\n"
     ]
    }
   ],
   "source": [
    "# 원본 이미지\n",
    "data = pytesseract.image_to_string(image, lang='kor',config='--psm 4')\n",
    "print(data)\n",
    "# 표 부분 제대로 안나옴"
   ]
  },
  {
   "cell_type": "code",
   "execution_count": 25,
   "metadata": {},
   "outputs": [
    {
     "name": "stdout",
     "output_type": "stream",
     "text": [
      "^ㅅ1138\n",
      "주소보정서\n",
      "\n",
      "사건번호_20가(차)[담당재판부:제_(단독)부]\n",
      "원고(채권자)\n",
      "\n",
      "피고(채무자)\n",
      "\n",
      "위사건에관하여아래와같이피고(채무자)의주소를보정합니다.\n",
      "\n",
      "주소변동없음종전에적어낸주소에그대로거주하고있음\n",
      "]주소\n",
      "\n",
      "(주민등록상주소가\n",
      "\n",
      "변동\n",
      "\n",
      "]송달장소\n",
      "\n",
      "(주민등록상주소는\n",
      "\n",
      "변동없음)\n",
      "\n",
      "\n",
      "\n",
      "\n",
      "\n",
      "\n",
      "\n",
      "재송달신청종전에적어낸주소로송달\n",
      "\n",
      "\n",
      "\n",
      "\n",
      "\n",
      "\n",
      "\n",
      "노그주ㅜ2~\n",
      "..통합송달(주간+야간+휴일)[ㄴ]주간송달\n",
      "트벽소다시칭\n",
      "\n",
      "^곤ㅇ곤77ㅇ\n",
      "\n",
      "소다ㅎ이]소다\n",
      "(특별송달료는지역에|느다득흑릉...:...니가열응롱\n",
      "따라차이가있을수|느흠꼬에적이루7소도승맘\n",
      "있음)새로운주소로숭덜\n",
      "송달장소로송달\n",
      "\n",
      "\n",
      "\n",
      "\n",
      "\n",
      "\n",
      "\n",
      "\n",
      "\n",
      "\n",
      "\n",
      "즈ㅅ”제0、-\n",
      "\n",
      "공시송달신청주소를할수없흔르로공시송탈을친청할\n",
      "\n",
      "ㅇ으른00(처넘서근.)\n",
      "1그l:.\n",
      "\n",
      "원고0ㅇㅇ)\n",
      "\n",
      "\n",
      "\n",
      "\n",
      "\n",
      "[주소보정요령]\n",
      "\n",
      "1.상대방의주소가변동되지않은경우에는주소변동없음란의|에“\\\"”표시를하고,송달\n",
      "이가능한새로운주소가확인되는경우에는주소변동있음란의[]에“《”표시와함께\n",
      "새로운주소를적은후이서면을주민등록표초본등소명자료와함께법원에제출하시기\n",
      "바랍니다.(상대방의주소가변동되지않은경우에도주민등록표초본등소명자료제출요함)\n",
      "\n",
      "2.법인대표자의주소로송달장소를보정할경우에는주소변동있음란의[|]에“\"\\”표시와\n",
      "함께새로운송달장소를적은후이서면을대표자의주민등록표초본등의소명자료와\n",
      "함께법원에제출하시기바랍니다.\n",
      "\n",
      "3.상대방이종전에적어낸주소에그대로거주하고있으면재송달신청란의[]에“\"\\\"”표시\n",
      "를하여이서면을주민등록표초본등소명자료와함께법원에제출하시기바랍니다.\n",
      "\n",
      "4.수취인부재,폐문부재등으로송달되지않는경우에특별송달(집행관송달또는법원경위송\n",
      "달)을희망하는때에는특별송달신청란의[|에“\\”표시를하고,통합송달ㆍ주간송달ㆍ야\n",
      "간송달ㆍ휴일송달중희망하는란의[]에도“\\”표시를한후,이서면을주민등록표초\n",
      "본등의소명자료와함께법원에제출하시기바랍니다(특별송달에필요한송달료추가납부\n",
      "와관련된문의는재판부또는접수계로하시기바랍니다).\n",
      "\n",
      "5.통합송달은채권자가복수의송달방법(주간송달,야간송달및휴일송달)을한번에신청할\n",
      "수있는집행관송달방식을말합니다.\n",
      "\n",
      "6.공시송달을신청하는때에는공시송달신청란의[]에“\\”표시를한후주민등록말소자등\n",
      "본기타공시송달요건을소명하는자료를첨부하여제출하시기바랍니다.\n",
      "\n",
      "7.지급명령신청사건의경우에는사건번호의\"(차)',\"채권자','채무자'표시에ㅇ표를하시기\n",
      "바랍니다.\n",
      "\n",
      "8.읍ㆍ면사무소또는동주민센터등에이서면또는주소보정권고등법원에서발행한문서\n",
      "를제출하여상대방의주민등록표초본등의교부를신청할수있습니다(주민등록법제29\n",
      "조제2항제2호,동법시행령제47조제5항참조).\n",
      "\n",
      "\n",
      "\n",
      "\n",
      "\f",
      "\n"
     ]
    }
   ],
   "source": [
    "print(data.replace(\" \", \"\"))"
   ]
  },
  {
   "cell_type": "code",
   "execution_count": 26,
   "metadata": {},
   "outputs": [
    {
     "name": "stdout",
     "output_type": "stream",
     "text": [
      "스1138\n",
      "주소보정서\n",
      "\n",
      "사건번호 20 가 (차)               [담당재판부 : 제 _ (단독)부]\n",
      "원고(채권자)\n",
      "피고(채무자)\n",
      "위 사건에 관하여 아래와 같이 피고(채무자)          의 주소를 보정합니다.\n",
      "\n",
      "주소변동 없음     종전에 적어낸 주소에 그대로 거주하고 있음\n",
      "「 주소\n",
      "(주민등록상 주소가\n",
      "변동\n",
      "[|] 송달장소\n",
      "(주민등록상 주소는\n",
      "\n",
      "변동 없음)\n",
      "\n",
      " \n",
      "\n",
      " \n",
      "\n",
      " \n",
      "\n",
      "재송달신청              종전에 적어낸 주소로 송달\n",
      "\n",
      " \n",
      "\n",
      " \n",
      "\n",
      " \n",
      "\n",
      "오그 수             =           2\n",
      "~>툰      통합송달(주간+야간+휴일) ㄴ] 주간송달\n",
      "트벽소다시처\n",
      "\n",
      "-1 는 ㅇ 른 1 ㅇ\n",
      "\n",
      "소다                  호이 소다\n",
      "(특별송달료는 지역에[는 앞득으르... 니 아월오도\n",
      "따라 차이가 있을 수| 느 을모영 고이고 7 소도 승병\n",
      "있음)                체포순 우로 승는\n",
      "송달장소로 송달\n",
      "\n",
      " \n",
      "\n",
      " \n",
      "\n",
      " \n",
      "\n",
      " \n",
      "\n",
      " \n",
      "\n",
      "스      소          소  으   기공\n",
      "공시송달신청            주소를 알 수 없으므로 공시송달을 신청함\n",
      "ㅇ   ㅇㅇ 른 ^ 느^ㅇ               (첨부서류  .                     )\n",
      "\n",
      "침부서류 :\n",
      "\n",
      "원고 00<ㅇ\n",
      "\n",
      " \n",
      "\n",
      " \n",
      "\n",
      "[주소보정요령]\n",
      "\n",
      "1. 상대방의 주소가 변동되지 않은 경우에는 주소변동 없음란의 |」]에 \"\\” 표시를 하고, 송달\n",
      "이 가능한 새로운 주소가 확인되는 경우에는 주소변동 있음란의 [|」에 “\"\\” 표시와 함께\n",
      "새로운 주소를 적은 후 이 서면을 주민등록표초본 등 소명자료와 함께 법원에 제출하시기\n",
      "바랍니다.(상대방의 주소가 변동되지 않은 경우에도 주민등록표초본 등 소명자료 제출요함)\n",
      "\n",
      "2. 법인 대표자의 주소로 송달장소를 보정할 경우에는 주소변동 있음란의 (에 \"\\” 표시와\n",
      "함께 새로운 송달장소를 적은 후 이 서면을 대표자의 주민등록표 초본 등의 소명자료와\n",
      "함께 법원에 제출하시기 바랍니다.\n",
      "\n",
      "3. 상대방이 종전에 적어 낸 주소에 그대로 거주하고 있으면 재송달신청란의 」]에 \"\\” 표시\n",
      "를 하여 이 서면을 주민등록표 초본 등 소명자료와 함께 법원에 제출하시기 바랍니다.\n",
      "\n",
      "4. 수취인부재, 폐문부재 등으로 송달되지 않는 경우에 특별송달(집행관송달 또는 법원경위송\n",
      "달)을 희망하는 때에는 특별송달신청란의 (」]에 \"\\” 표시를 하고, 통합송달ㆍ주간송달ㆍ야\n",
      "간송달ㆍ휴일송달 중 희망하는 란의 (|]에도 \"\\” 표시를 한 후, 이 서면을 주민등록표 초\n",
      "본 등의 소명자료와 함께 법원에 제출하시기 바랍니다(특별송달에 필요한 송달료 추가납부\n",
      "와 관련된 문의는 재판부 또는 접수계로 하시기 바랍니다).\n",
      "\n",
      "5. 통합송달은 채권자가 복수의 송달방법(주간송달, 야간송달 및 휴일송달)을 한 번에 신청할\n",
      "수 있는 집행관송달 방식을 말합니다.\n",
      "\n",
      "6. 공시송달을 신청하는 때에는 공시송달신청란의 []에 \"\\” 표시를 한 후 주민등록말소자등\n",
      "본 기타 공시송달요건을 소명하는 자료를 첨부하여 제출하시기 바랍니다.\n",
      "\n",
      "7. 지급명령신청사건의 경우에는 사건번호의 \"(차)', \"채권자\", \"채무자\" 표시에 ㅇ표를 하시기\n",
      "바랍니다.\n",
      "\n",
      "8. 읍ㆍ면사무소 또는 동주민센터 등에 이 서면 또는 주소보정권고 등 법원에서 발행한 문서\n",
      "를 제출하여 상대방의 주민등록표 초본 등의 교부를 신청할 수 있습니다(주민등록법 제29\n",
      "조 제2항 제2호, 동법 시행령 제47조 제5항 참조).\n",
      "\n",
      " \n",
      "\n",
      " \n",
      "\f",
      "\n"
     ]
    }
   ],
   "source": [
    "# gray-scale 이미지\n",
    "# RGB - Gray 변환\n",
    "img2gray = cv.cvtColor(image, cv.COLOR_BGR2GRAY)\n",
    "cv.imwrite('C:\\\\Users\\\\JSW\\\\temp_memory\\\\test_2gray.jpg', img2gray)\n",
    "\n",
    "data = pytesseract.image_to_string(img2gray, lang='kor',config='--psm 4')\n",
    "print(data)\n",
    "# 이거는 딱히 차이 없음"
   ]
  },
  {
   "cell_type": "code",
   "execution_count": 81,
   "metadata": {
    "collapsed": true
   },
   "outputs": [
    {
     "name": "stdout",
     "output_type": "stream",
     "text": [
      "스1138\n",
      "주 소보정서\n",
      "\n",
      " \n",
      "\n",
      " \n",
      "\n",
      " \n",
      "\n",
      " \n",
      "\n",
      " \n",
      "\n",
      " \n",
      "\n",
      " \n",
      "\n",
      " \n",
      "\n",
      " \n",
      "\n",
      " \n",
      "\n",
      " \n",
      "\n",
      " \n",
      "\n",
      " \n",
      "\n",
      "사건번호 _20 가 (차)                  [담당재판부 : 제 _ (단독)부]\n",
      "원고(채권자)\n",
      "피고(채무자)\n",
      "위 사건에 관하여 아래와 같이 피고(채무자)          의 주소를 보정합니다.\n",
      "|                        ㅣ                        =\n",
      "| ㅁ 주소변동 없음     종전에 적어낸 주소에 그대로 거주하고 있음\n",
      "' 주소\n",
      "주소 변 (주민등록상 주소가\n",
      "변동 _ 동 | 변동)\n",
      ". ㅠ무 . 있 송달장소\n",
      "음 (주민등록상 주소는\n",
      "변동 없음)\n",
      " 』 | 재송달신청            종전에 적어낸 주소로 송달\n",
      "               스오   ;         =\n",
      "날      트벼소난시청 니 똥합송달(주간+야간+휴일) [ 주간송달\n",
      "론 다 그 은0 6 가이     야간송달                [| 휴일송달\n",
      "소다  그 (특별송달료는 지역에 _ 고        즈   소\n",
      "신청. 곤 파라 차이가 있을 수 는 입속 / 그 도 그공츠 으8\n",
      "이 요 있음)            에포폭 이조 6 들\n",
      "ㄴㄴ! < 곤 ㅇ   ㅇㅇ 폰\n",
      "\"              (첨부서류 :                 )\n",
      "                     20 . . . 원고 ㅇ000\n",
      "\n",
      "[주소보정요령 |\n",
      "\n",
      "1. 상대방의 주소가 변동되지 않은 경우에는 주소변동 없음란의 [| 」에 \"\\”” 표시를 하고, 송달\n",
      "이 가능한 새로운 주소가 확인되는 경우에는 주소변동 있음란의 []에 \"\\” 표시와 함께\n",
      "새로운 주소를 적은 후 이 서면을 주민등록표초본 등 소명자료와 함께 법원에 제출하시기\n",
      "바랍니다.(상대방의 주소가 변동되지 않은 경우에도 주민등록표초본 등 소명자료 제출요함)\n",
      "\n",
      "2. 법인 대표자의 주소로 송달장소를 보정할 경우에는 주소변동 있음란의 |]에 \"\\” 표시와\n",
      "함께 새로운 송달장소를 적은 후 이 서면을 대표자의 주민등록표 초본 등의 소명자료와\n",
      "함께 법원에 제출하시기 바랍니다.\n",
      "\n",
      "3. 상대방이 총전에 적어 낸 주소에 그대로 거주하고 있으면 재송달신청란의 [| ]에 \"\\\" 표시\n",
      "를 하여 이 서면을 주민등록표 초본 등 소명자료와 함께 법원에 제출하시기 바랍니다.\n",
      "\n",
      "4. 수취인부재, 폐문부재 등으로 송달되지 않는 경우에 특별송달(집행관송달 또는 법원경위숭\n",
      "달)을 희망하는 때에는 특별송달신청란의 []에 \"\\” 표시를 하고, 통합송달ㆍ주간송달ㆍ야\n",
      "간송달ㆍ휴일송달 중 희망하는 란의 [| ]에도 \"\\” 표시를 한 후, 이 서면을 주민등록표 초\n",
      "본 등의 소명자료와 함께 법원에 제출하시기 바랍니다(특별송달에 필요한 송달료 추가납부\n",
      "와 관련된 문의는 재판부 또는 접수계로 하시기 바랍니다).\n",
      "\n",
      "5. 통합송달은 채권자가 복수의 송달방법(주간송달, 야간송달 및 휴일송달)을 한 번에 신청할\n",
      "수 있는 집행관송달 방식을 말합니다.\n",
      "\n",
      "6. 공시송달을 신청하는 때에는 공시송달신청란의 [」에 \"\\” 표시를 한 후 주민등록말소자등\n",
      "본 기타 공시송달요건을 소명하는 자료를 첨부하여 제출하시기 바랍니다.\n",
      "\n",
      "7. 지급명령신청사건의 경우에는 사건번호의 \"(차)', \"채권자\", \"채무자\" 표시에 ㅇ표를 하시기\n",
      "바랍니다.\n",
      "\n",
      "8. 읍ㆍ면사무소 또는 동주민센터 등에 이 서면 또는 주소보정권고 등 법원에서 발행한 문서\n",
      "를 제출하여 상대방의 주민등록표 초본 등의 교부를 신청할 수 있습니다(주민등록법 제29\n",
      "조 제2항 제2호, 동법 시행령 제47조 제5항 참조).\n",
      "\n",
      " \n",
      "\n",
      " \n",
      "\n",
      " \n",
      "\n",
      " \n",
      "\f",
      "\n"
     ]
    }
   ],
   "source": [
    "# 이거는 호프라인 변환 적용 - 표 부분 제거 - 이게 제일 괜찮음\n",
    "filename = 'test.jpg'\n",
    "image = cv.imread(filename)\n",
    "copy_image = image\n",
    "# 이미지 새로 불러오지 않으면 계속 덮어서 그림 - 자동함수만들때는 주석처리해줘야함\n",
    "\n",
    "edges = cv.Canny(image, 50, 200,apertureSize=3)\n",
    "minLineLength = 100\n",
    "maxLineGap = 80\n",
    "\n",
    "lines = cv.HoughLinesP(edges,1,np.pi/360,100,minLineLength,maxLineGap)\n",
    "for i in range(len(lines)):\n",
    "    for x1,y1,x2,y2 in lines[i]:\n",
    "        cv.line(copy_image,(x1,y1),(x2,y2),(255,255,255),10)\n",
    "cv.imwrite('C:\\\\Users\\\\JSW\\\\temp_memory\\\\test_line.jpg', copy_image)\n",
    "\n",
    "data = pytesseract.image_to_string(copy_image, lang='kor',config='--psm 4')\n",
    "print(data)"
   ]
  },
  {
   "cell_type": "code",
   "execution_count": 90,
   "metadata": {},
   "outputs": [
    {
     "name": "stdout",
     "output_type": "stream",
     "text": [
      "1726\n"
     ]
    }
   ],
   "source": [
    "print(len(data))"
   ]
  },
  {
   "cell_type": "code",
   "execution_count": 91,
   "metadata": {},
   "outputs": [],
   "source": [
    "f = open(\"testfile.txt\", 'w')\n",
    "f.write(data)\n",
    "f.close()"
   ]
  },
  {
   "cell_type": "code",
   "execution_count": 89,
   "metadata": {},
   "outputs": [
    {
     "name": "stdout",
     "output_type": "stream",
     "text": [
      "스1138\n",
      "주 소보정서\n",
      "\n",
      " \n",
      "\n",
      " \n",
      "\n",
      " \n",
      "\n",
      " \n",
      "\n",
      " \n",
      "\n",
      " \n",
      "\n",
      " \n",
      "\n",
      " \n",
      "\n",
      " \n",
      "\n",
      " \n",
      "\n",
      " \n",
      "\n",
      " \n",
      "\n",
      " \n",
      "\n",
      "사건번호  20 가  차  담당재판부   제    단독 부 \n",
      "원고 채권자 \n",
      "피고 채무자 \n",
      "위 사건에 관하여 아래와 같이 피고 채무자 의 주소를 보정합니다 \n",
      " ㅣ \n",
      "  ㅁ 주소변동 없음종전에 적어낸 주소에 그대로 거주하고 있음\n",
      "  주소\n",
      "주소 변  주민등록상 주소가\n",
      "변동   동   변동 \n",
      "  ㅠ무   있 송달장소\n",
      "음  주민등록상 주소는\n",
      "변동 없음 \n",
      "     재송달신청종전에 적어낸 주소로 송달\n",
      "스오  \n",
      "날트벼소난시청 니 똥합송달 주간 야간 휴일    주간송달\n",
      "론 다 그 은0 6 가이야간송달   휴일송달\n",
      "소다그  특별송달료는 지역에   고즈소\n",
      "신청  곤 파라 차이가 있을 수 는 입속   그 도 그공츠 으8\n",
      "이 요 있음 에포폭 이조 6 들\n",
      "ㄴㄴ    곤     폰\n",
      "  첨부서류   \n",
      "20       원고  000\n",
      "\n",
      " 주소보정요령  \n",
      "\n",
      "1  상대방의 주소가 변동되지 않은 경우에는 주소변동 없음란의     에   ”” 표시를 하고  송달\n",
      "이 가능한 새로운 주소가 확인되는 경우에는 주소변동 있음란의   에   ” 표시와 함께\n",
      "새로운 주소를 적은 후 이 서면을 주민등록표초본 등 소명자료와 함께 법원에 제출하시기\n",
      "바랍니다  상대방의 주소가 변동되지 않은 경우에도 주민등록표초본 등 소명자료 제출요함 \n",
      "\n",
      "2  법인 대표자의 주소로 송달장소를 보정할 경우에는 주소변동 있음란의   에   ” 표시와\n",
      "함께 새로운 송달장소를 적은 후 이 서면을 대표자의 주민등록표 초본 등의 소명자료와\n",
      "함께 법원에 제출하시기 바랍니다 \n",
      "\n",
      "3  상대방이 총전에 적어 낸 주소에 그대로 거주하고 있으면 재송달신청란의     에     표시\n",
      "를 하여 이 서면을 주민등록표 초본 등 소명자료와 함께 법원에 제출하시기 바랍니다 \n",
      "\n",
      "4  수취인부재  폐문부재 등으로 송달되지 않는 경우에 특별송달 집행관송달 또는 법원경위숭\n",
      "달 을 희망하는 때에는 특별송달신청란의   에   ” 표시를 하고  통합송달 주간송달 야\n",
      "간송달 휴일송달 중 희망하는 란의     에도   ” 표시를 한 후  이 서면을 주민등록표 초\n",
      "본 등의 소명자료와 함께 법원에 제출하시기 바랍니다 특별송달에 필요한 송달료 추가납부\n",
      "와 관련된 문의는 재판부 또는 접수계로 하시기 바랍니다  \n",
      "\n",
      "5  통합송달은 채권자가 복수의 송달방법 주간송달  야간송달 및 휴일송달 을 한 번에 신청할\n",
      "수 있는 집행관송달 방식을 말합니다 \n",
      "\n",
      "6  공시송달을 신청하는 때에는 공시송달신청란의   에   ” 표시를 한 후 주민등록말소자등\n",
      "본 기타 공시송달요건을 소명하는 자료를 첨부하여 제출하시기 바랍니다 \n",
      "\n",
      "7  지급명령신청사건의 경우에는 사건번호의   차     채권자    채무자  표시에  표를 하시기\n",
      "바랍니다 \n",
      "\n",
      "8  읍 면사무소 또는 동주민센터 등에 이 서면 또는 주소보정권고 등 법원에서 발행한 문서\n",
      "를 제출하여 상대방의 주민등록표 초본 등의 교부를 신청할 수 있습니다 주민등록법 제29\n",
      "조 제2항 제2호  동법 시행령 제47조 제5항 참조  \n",
      "\n",
      " \n",
      "\n",
      " \n",
      "\n",
      " \n",
      "\n",
      " \n",
      "\f",
      "\n"
     ]
    }
   ],
   "source": [
    "doc = pattern1.sub(' ',\n",
    "              re.sub(r' {2,}','',\n",
    "              pattern4.sub('',data.strip('\\n'))))\n",
    "print(doc)"
   ]
  },
  {
   "cell_type": "code",
   "execution_count": 47,
   "metadata": {},
   "outputs": [
    {
     "name": "stdout",
     "output_type": "stream",
     "text": [
      "스1138주 소보정서             사건번호 _20 가 (차)                  [담당재판부 : 제 _ (단독)부]원고(채권자)피고(채무자)위 사건에 관하여 아래와 같이 피고(채무자)          의 주소를 보정합니다.|                        ㅣ                        =| ㅁ 주소변동 없음     종전에 적어낸 주소에 그대로 거주하고 있음' 주소주소 변 (주민등록상 주소가변동 _ 동 | 변동). ㅠ무 . 있 송달장소음 (주민등록상 주소는변동 없음) 』 | 재송달신청            종전에 적어낸 주소로 송달               스오   ;         =날      트벼소난시청 니 똥합송달(주간+야간+휴일) [ 주간송달론 다 그 은0 6 가이     야간송달                [| 휴일송달소다  그 (특별송달료는 지역에 _ 고        즈   소신청. 곤 파라 차이가 있을 수 는 입속 / 그 도 그공츠 으8이 요 있음)            에포폭 이조 6 들ㄴㄴ! < 곤 ㅇ   ㅇㅇ 폰\"              (첨부서류 :                 )                     20 . . . 원고 ㅇ000[주소보정요령 |1. 상대방의 주소가 변동되지 않은 경우에는 주소변동 없음란의 [| 」에 \"\\”” 표시를 하고, 송달이 가능한 새로운 주소가 확인되는 경우에는 주소변동 있음란의 []에 \"\\” 표시와 함께새로운 주소를 적은 후 이 서면을 주민등록표초본 등 소명자료와 함께 법원에 제출하시기바랍니다.(상대방의 주소가 변동되지 않은 경우에도 주민등록표초본 등 소명자료 제출요함)2. 법인 대표자의 주소로 송달장소를 보정할 경우에는 주소변동 있음란의 |]에 \"\\” 표시와함께 새로운 송달장소를 적은 후 이 서면을 대표자의 주민등록표 초본 등의 소명자료와함께 법원에 제출하시기 바랍니다.3. 상대방이 총전에 적어 낸 주소에 그대로 거주하고 있으면 재송달신청란의 [| ]에 \"\\\" 표시를 하여 이 서면을 주민등록표 초본 등 소명자료와 함께 법원에 제출하시기 바랍니다.4. 수취인부재, 폐문부재 등으로 송달되지 않는 경우에 특별송달(집행관송달 또는 법원경위숭달)을 희망하는 때에는 특별송달신청란의 []에 \"\\” 표시를 하고, 통합송달ㆍ주간송달ㆍ야간송달ㆍ휴일송달 중 희망하는 란의 [| ]에도 \"\\” 표시를 한 후, 이 서면을 주민등록표 초본 등의 소명자료와 함께 법원에 제출하시기 바랍니다(특별송달에 필요한 송달료 추가납부와 관련된 문의는 재판부 또는 접수계로 하시기 바랍니다).5. 통합송달은 채권자가 복수의 송달방법(주간송달, 야간송달 및 휴일송달)을 한 번에 신청할수 있는 집행관송달 방식을 말합니다.6. 공시송달을 신청하는 때에는 공시송달신청란의 [」에 \"\\” 표시를 한 후 주민등록말소자등본 기타 공시송달요건을 소명하는 자료를 첨부하여 제출하시기 바랍니다.7. 지급명령신청사건의 경우에는 사건번호의 \"(차)', \"채권자\", \"채무자\" 표시에 ㅇ표를 하시기바랍니다.8. 읍ㆍ면사무소 또는 동주민센터 등에 이 서면 또는 주소보정권고 등 법원에서 발행한 문서를 제출하여 상대방의 주민등록표 초본 등의 교부를 신청할 수 있습니다(주민등록법 제29조 제2항 제2호, 동법 시행령 제47조 제5항 참조).    \f",
      "\n"
     ]
    }
   ],
   "source": [
    "print(data.replace(\"\\n\",\"\"))"
   ]
  },
  {
   "cell_type": "code",
   "execution_count": 72,
   "metadata": {},
   "outputs": [],
   "source": [
    "filename = 'test.jpg'\n",
    "image = cv.imread(filename)\n",
    "copy_image = image\n",
    "\n",
    "kernel = cv.getStructuringElement(cv.MORPH_RECT, (3,3))\n",
    "dilate = cv.dilate(copy_image, kernel, iterations=1)\n",
    "erosion = cv.erode(dilate, kernel, iterations=1)\n",
    "result = cv.morphologyEx(copy_image, cv.MORPH_GRADIENT, kernel)"
   ]
  },
  {
   "cell_type": "code",
   "execution_count": 73,
   "metadata": {},
   "outputs": [
    {
     "data": {
      "image/png": "[encoded data removed]",
      "text/plain": [
       "<Figure size 432x288 with 3 Axes>"
      ]
     },
     "metadata": {},
     "output_type": "display_data"
    }
   ],
   "source": [
    "# 이미지 확인 작업\n",
    "images = [dilation, erosion, result]\n",
    "for i in range(3):\n",
    "    plt.subplot(2,3,i+1),plt.imshow(images[i],'gray')\n",
    "    plt.xticks([]),plt.yticks([])\n",
    "\n",
    "plt.show()"
   ]
  },
  {
   "cell_type": "code",
   "execution_count": 74,
   "metadata": {},
   "outputs": [],
   "source": [
    "for i in range(3):\n",
    "    cv.imwrite('C:\\\\Users\\\\JSW\\\\temp_memory\\\\test{}.jpg'.format(i), images[i])"
   ]
  },
  {
   "cell_type": "code",
   "execution_count": 76,
   "metadata": {},
   "outputs": [
    {
     "name": "stdout",
     "output_type": "stream",
     "text": [
      "^ㅅ1138\n",
      "보 정서\n",
      "\n",
      "사건번호 20 가 (차)          담당재판부 : 제 _ (단독)부|\n",
      "원고(채권자)\n",
      "피고(채무자)\n",
      "위 사건에 관하여 아래와 같이 피고(채무자)          의 주소를 보정합니다\n",
      "\n",
      "소면동 없음     중진에 적어낸 주소에 그대로 거주하고 있음\n",
      "\n",
      "스 2\n",
      "| -1-\n",
      "스트] 느 로 시- -스 2, |.\n",
      "(| 민등독싱  소기\n",
      "에\n",
      "변동)\n",
      "1~ㄴ|-\"]- 2\n",
      "ㄴㄴ 0 *ㅠ =->1!\n",
      "\n",
      "ㅅㅅ  ㄴ  。_\n",
      "(-  마| - 58 싱  ~ 수 극\n",
      "\n",
      "\"~ 없음)\n",
      "\n",
      "- 재송날신청        종전에 적어낸 주수\n",
      "\n",
      "통합송단(주간+ 야간+ 휴일)\n",
      "-                        야간송딘\n",
      "\n",
      "는 느 0 -   스나 시 징\n",
      "(5별송단835 지역아[ 는 아탁홍단\n",
      "= <    쇠ㅇ\n",
      "[다 다 가이 가 있을     6 간에?   기니 1\n",
      "@] 으-              새로운 ㅜㅠ  、, 나느 -2-\n",
      "^ㅅ1!               으나 장 쇼번 날\n",
      "\n",
      "-스 2, 드 @ㅇ12 27~ 어   그 는 ~ 그지 2] - 46] - 으-  시 지하\n",
      "고 시 소날 시 짐                   ㅣ -1-1 ; 은   |   14 으브로   @   |8        시 실 임\n",
      "1 느 그                    -/.] }    는그  .\n",
      "(쥐부서듀 :                       )\n",
      "\n",
      "위고 0) 0)\n",
      "\n",
      " \n",
      "\n",
      "너 쥬소보정요령\n",
      "\n",
      "상대방의 주소가 변동되지 않은 경우에는 주소변동 없음란의 _.에 “^” 표시를 하고, 송달\n",
      "이 가능한 새로운 운 주소가 확인되는 경우에는 주소변동 있음란의 에 “\\\" 표시와 함께\n",
      "새로운 주소를 적은 후 이 서면을 주민등록표초본 등 '소명자료와 함께 멤원에 제출하시기\n",
      "마람니다.(상대방의 주소가 변동되지 않은 경우에도 주민등록표초본 등 소명자료 제출요함)\n",
      "\n",
      "2. 법인 대표자의 주소로 송달장소를 보정할 경우에는 주 소번동 있음란의 _에 “\"\\/\"” 퓨시와\n",
      "함께 새로운 송달장소를 적은 후 이 서면을 대표자의 주민등록표 초본 등의 수명자료와\n",
      "함께 법원에 제출하시기 바랍니다.\n",
      "\n",
      "3. 상대방이 종전에 적어 내 주소에 그대로 거주하고 있으면 재송달신청란의 에 “\\\" 표시\n",
      "를 하여 이 서면을 주민등록표 초본 등 소명 사료와 함께 범원에 제출하시기 바| 니다\n",
      "\n",
      "{4. 수취오  긴부재, 폐문부재 : 능으로 송달되지 않는 경우에 특별긍  눈달(집 행관송달 또는 법 인7 경 2위승 고\n",
      "달)을 희망하는 때에는 특별송달신칭란의 에 “\" 표시를 하고, 통합송달ㆍ주간송달ㆍ야\n",
      "간송달ㆍ휴일송달 중 희망하는 란의 -:에도 \"\" 표시를 한 후, 이 서민을 주민등록; 뚜 총\n",
      "\n",
      "본 등의 수명자료와 함께 범원에 제출하시기 바랍니다(특별송달에 필요한 송달료 추가납부\n",
      "와 관련된 문의는 재판부 또는  수계로 하시기 바랍니다)\n",
      "\n",
      "5. 통합송달은 채권자가 복수의 송달방법(주간송달, 야간송달 및 휴일송달)을 한 번에 신청할\n",
      "수 있는 집 행관송 ~닥 방식을 말함 갑니다.\n",
      "6. 공시송 ~닫을 신청하는 때에는 공시송달신청란의 에 “%” 표시를 한 후 주민등록말소자등\n",
      "\n",
      "본 기타. 공시송  ~닥요건을 소명하는 자료 름 짐부하여 제 - 나 {| 기 바람니다.\n",
      "7. 지급명령신청사건의 경우에는 사건번호의 \"(차/,, \"채권자\", \"채무자' 표시에 표를 하시기\n",
      "바람니다.\n",
      "8. 음ㆍ면사무소 또는 동주민센터 등에 이 서면 또는 주소보정권고 등 멈원에서 받해한 문서\n",
      "\n",
      "를 제출하여 상대방의 주민등록표 초본 등의 교부를 신청할 수 있습니다(주민등록법 제29\n",
      "조 제2항 제2호, 농법 시행 령 제47조 제5항 참조).\n",
      "\f",
      "\n"
     ]
    },
    {
     "data": {
      "text/plain": [
       "True"
      ]
     },
     "execution_count": 76,
     "metadata": {},
     "output_type": "execute_result"
    }
   ],
   "source": [
    "# Bitwise dilated image with mask, invert, then OCR\n",
    "result = cv.bitwise_and(dilate, erosion)\n",
    "data = pytesseract.image_to_string(result, lang='kor',config='--psm 4')\n",
    "print(data)\n",
    "cv.imwrite('C:\\\\Users\\\\JSW\\\\temp_memory\\\\test_result.jpg', result)"
   ]
  },
  {
   "cell_type": "code",
   "execution_count": null,
   "metadata": {},
   "outputs": [],
   "source": []
  },
  {
   "cell_type": "code",
   "execution_count": null,
   "metadata": {},
   "outputs": [],
   "source": []
  },
  {
   "cell_type": "code",
   "execution_count": null,
   "metadata": {},
   "outputs": [],
   "source": []
  },
  {
   "cell_type": "code",
   "execution_count": null,
   "metadata": {},
   "outputs": [],
   "source": []
  },
  {
   "cell_type": "code",
   "execution_count": 77,
   "metadata": {},
   "outputs": [],
   "source": [
    "import re\n",
    "from string import punctuation"
   ]
  },
  {
   "cell_type": "code",
   "execution_count": 85,
   "metadata": {},
   "outputs": [],
   "source": [
    "pattern1 = re.compile('[{}■「※」ㆍ√☎㎡□○◦㎥･◆￦￭▸▣❒❙♣◇←－：…………☞≫≪Ⅰ《》〈〉∨…➀Ⅲ➁‣⇨➂∙▪ⓛ‣Ⅱ․․․▲△Ｏ•×【】▶✓➡◀∼″→ㅇ⇒『』◯▼㎜×·④①②③⑤⑦⑥⑧⑨⑩⑪⑫⑬⑭⑮⑯⑰⑱｢｣◎❶❷❸❹❼❺❻]'.format(re.escape(punctuation)))\n",
    "pattern2 = re.compile(r'\\bwww\\w+(?:[.]?\\w+)+\\b')\n",
    "pattern3 = re.compile(r'[A-Za-z一-龥0-9]')\n",
    "pattern4 = re.compile(r'\\s{2,}')"
   ]
  },
  {
   "cell_type": "code",
   "execution_count": null,
   "metadata": {},
   "outputs": [],
   "source": [
    "# - todo\n",
    "# tesseract 분명히 글꼴 추가 누적 학습이 있을거임\n",
    "# 글꼴 통일하거나 글꼴 추가해서 누적 학습\n",
    "# 선제거 다시한번하기\n",
    "# 전처리 더 철저하게"
   ]
  },
  {
   "cell_type": "code",
   "execution_count": null,
   "metadata": {},
   "outputs": [],
   "source": []
  },
  {
   "cell_type": "code",
   "execution_count": null,
   "metadata": {},
   "outputs": [],
   "source": []
  },
  {
   "cell_type": "code",
   "execution_count": null,
   "metadata": {},
   "outputs": [],
   "source": []
  }
 ],
 "metadata": {
  "kernelspec": {
   "display_name": "Python 3",
   "language": "python",
   "name": "python3"
  },
  "language_info": {
   "codemirror_mode": {
    "name": "ipython",
    "version": 3
   },
   "file_extension": ".py",
   "mimetype": "text/x-python",
   "name": "python",
   "nbconvert_exporter": "python",
   "pygments_lexer": "ipython3",
   "version": "3.7.8"
  }
 },
 "nbformat": 4,
 "nbformat_minor": 2
}
