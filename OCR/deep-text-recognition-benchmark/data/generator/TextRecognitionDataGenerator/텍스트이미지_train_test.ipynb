{
 "cells": [
  {
   "cell_type": "markdown",
   "metadata": {},
   "source": [
    "#### 효과처리한 텍스트 이미지를 train/test 분리"
   ]
  },
  {
   "cell_type": "code",
   "execution_count": 43,
   "metadata": {},
   "outputs": [],
   "source": [
    "from sklearn.model_selection import train_test_split"
   ]
  },
  {
   "cell_type": "code",
   "execution_count": 44,
   "metadata": {},
   "outputs": [],
   "source": [
    "import os"
   ]
  },
  {
   "cell_type": "code",
   "execution_count": 45,
   "metadata": {},
   "outputs": [],
   "source": [
    "import shutil"
   ]
  },
  {
   "cell_type": "code",
   "execution_count": 53,
   "metadata": {},
   "outputs": [],
   "source": [
    "generated_data_path = './out/'"
   ]
  },
  {
   "cell_type": "code",
   "execution_count": 54,
   "metadata": {},
   "outputs": [],
   "source": [
    "category_path_list = ['basic', 'back', 'skew', 'blur', 'dist']"
   ]
  },
  {
   "cell_type": "code",
   "execution_count": 62,
   "metadata": {},
   "outputs": [],
   "source": [
    "for category_path in category_path_list:\n",
    "    img_list = os.listdir(os.path.join(generated_data_path, category_path))\n",
    "    \n",
    "    if img_list:\n",
    "        train_list, test_list = train_test_split(img_list) # 0.75, 0.25\n",
    "        \n",
    "        # 각 폴더들이 없는 경우, 생성\n",
    "        if not os.path.exists('./training/{}'.format(category_path)):\n",
    "            os.makedirs('./training/{}'.format(category_path))\n",
    "        \n",
    "        for train in train_list:\n",
    "            shutil.copy(os.path.join(os.path.join(generated_data_path, category_path), train), './training/{}'.format(category_path))\n",
    "        \n",
    "        if not os.path.exists('./test/{}'.format(category_path)):\n",
    "            os.makedirs('./test/{}'.format(category_path))\n",
    "\n",
    "        for test in test_list:\n",
    "            shutil.copy(os.path.join(os.path.join(generated_data_path, category_path), test), './test/{}'.format(category_path))"
   ]
  },
  {
   "cell_type": "markdown",
   "metadata": {},
   "source": [
    "#### make gt_text : model의 lmdb 만들기 위해 txt 파일 생성"
   ]
  },
  {
   "cell_type": "code",
   "execution_count": 63,
   "metadata": {},
   "outputs": [],
   "source": [
    "training_dir_list = os.listdir('training/')"
   ]
  },
  {
   "cell_type": "code",
   "execution_count": 64,
   "metadata": {},
   "outputs": [
    {
     "data": {
      "text/plain": [
       "['skew', 'back', 'dist', 'basic', 'blur']"
      ]
     },
     "execution_count": 64,
     "metadata": {},
     "output_type": "execute_result"
    }
   ],
   "source": [
    "training_dir_list"
   ]
  },
  {
   "cell_type": "code",
   "execution_count": 65,
   "metadata": {},
   "outputs": [],
   "source": [
    "for train_dir in training_dir_list:\n",
    "    train_data_list = os.listdir('training/{}'.format(train_dir))\n",
    "#     print(len(train_data_list))\n",
    "    tmp_train, tmp_validation = train_test_split(train_data_list, test_size=0.2)\n",
    "    \n",
    "    if not os.path.exists('./validation/{}'.format(train_dir)):\n",
    "        os.makedirs('./validation/{}'.format(train_dir))\n",
    "        \n",
    "    for validation in tmp_validation:\n",
    "#         shutil.copy(os.path.join('./training/{}'.format(train_dir), validation), './validation/{}'.format(train_dir))\n",
    "        shutil.move(os.path.join('./training/{}'.format(train_dir), validation), './validation/{}'.format(train_dir))"
   ]
  },
  {
   "cell_type": "code",
   "execution_count": 71,
   "metadata": {},
   "outputs": [],
   "source": [
    "for train_dir in training_dir_list:\n",
    "    train_list = os.listdir('training/{}'.format(train_dir))\n",
    "    \n",
    "    file_name = 'gt_{}.txt'.format(train_dir)\n",
    "    for train in train_list:\n",
    "        with open(file_name, 'a', encoding='utf8') as f:\n",
    "            file_path, _ = train.split('_')\n",
    "            f.write('training/{}/'.format(train_dir)+train+'\\t'+file_path.split('.')[0]+'\\n')"
   ]
  },
  {
   "cell_type": "code",
   "execution_count": 72,
   "metadata": {},
   "outputs": [],
   "source": [
    "for train_dir in training_dir_list:\n",
    "    validation_list = os.listdir('validation/{}'.format(train_dir))\n",
    "    \n",
    "    file_name = 'gt_{}_validate.txt'.format(train_dir)\n",
    "    for validation in validation_list:\n",
    "        with open(file_name, 'a', encoding='utf8') as f:\n",
    "            file_path, _ = validation.split('_')\n",
    "            f.write('validation/{}/'.format(train_dir)+validation+'\\t'+file_path.split('.')[0]+'\\n')"
   ]
  },
  {
   "cell_type": "code",
   "execution_count": 73,
   "metadata": {},
   "outputs": [],
   "source": [
    "for train_dir in training_dir_list:\n",
    "    train_list = os.listdir('test/{}'.format(train_dir))\n",
    "    \n",
    "    file_name = 'gt_{}_test.txt'.format(train_dir)\n",
    "    for train in train_list:\n",
    "        with open(file_name, 'a', encoding='utf8') as f:\n",
    "            file_path, _ = train.split('_')\n",
    "            f.write('test/{}/'.format(train_dir)+train+'\\t'+file_path.split('.')[0]+'\\n')"
   ]
  }
 ],
 "metadata": {
  "kernelspec": {
   "display_name": "Python 3",
   "language": "python",
   "name": "python3"
  },
  "language_info": {
   "codemirror_mode": {
    "name": "ipython",
    "version": 3
   },
   "file_extension": ".py",
   "mimetype": "text/x-python",
   "name": "python",
   "nbconvert_exporter": "python",
   "pygments_lexer": "ipython3",
   "version": "3.7.7"
  }
 },
 "nbformat": 4,
 "nbformat_minor": 4
}
