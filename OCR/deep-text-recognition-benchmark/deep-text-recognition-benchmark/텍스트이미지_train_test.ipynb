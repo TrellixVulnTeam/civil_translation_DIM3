{
 "cells": [
  {
   "cell_type": "markdown",
   "metadata": {},
   "source": [
    "#### 효과처리한 텍스트 이미지를 train/test 분리"
   ]
  },
  {
   "cell_type": "code",
   "execution_count": 20,
   "metadata": {},
   "outputs": [],
   "source": [
    "from sklearn.model_selection import train_test_split"
   ]
  },
  {
   "cell_type": "code",
   "execution_count": 21,
   "metadata": {},
   "outputs": [],
   "source": [
    "import os"
   ]
  },
  {
   "cell_type": "code",
   "execution_count": 22,
   "metadata": {},
   "outputs": [],
   "source": [
    "import shutil"
   ]
  },
  {
   "cell_type": "code",
   "execution_count": 23,
   "metadata": {},
   "outputs": [],
   "source": [
    "generated_data_path = '../data/generator/TextRecognitionDataGenerator/out/'"
   ]
  },
  {
   "cell_type": "code",
   "execution_count": 24,
   "metadata": {},
   "outputs": [],
   "source": [
    "category_path_list = ['basic', 'back', 'skew', 'blur', 'dist']"
   ]
  },
  {
   "cell_type": "code",
   "execution_count": 31,
   "metadata": {},
   "outputs": [
    {
     "data": {
      "text/plain": [
       "True"
      ]
     },
     "execution_count": 31,
     "metadata": {},
     "output_type": "execute_result"
    }
   ],
   "source": [
    "os.path.exists('./train')"
   ]
  },
  {
   "cell_type": "code",
   "execution_count": 33,
   "metadata": {},
   "outputs": [],
   "source": [
    "for category_path in category_path_list:\n",
    "    img_list = os.listdir(os.path.join(generated_data_path, category_path))\n",
    "    \n",
    "    if img_list:\n",
    "        train_list, test_list = train_test_split(img_list)\n",
    "        \n",
    "        # 각 폴더들이 없는 경우, 생성\n",
    "        if not os.path.exists('./train'):\n",
    "            os.mkdir('./train')\n",
    "        \n",
    "        if not os.path.exists('./test'):\n",
    "            os.mkdir('./test')\n",
    "        \n",
    "        # training data\n",
    "        for train in train_list:\n",
    "            shutil.copy(os.path.join(os.path.join(generated_data_path, category_path), train), './train/')\n",
    "        \n",
    "        # test data\n",
    "        for test in test_list:\n",
    "            shutil.copy(os.path.join(os.path.join(generated_data_path, category_path), test), './test/')"
   ]
  },
  {
   "cell_type": "code",
   "execution_count": 34,
   "metadata": {},
   "outputs": [
    {
     "data": {
      "text/plain": [
       "(20250, 6750)"
      ]
     },
     "execution_count": 34,
     "metadata": {},
     "output_type": "execute_result"
    }
   ],
   "source": [
    "len(os.listdir('./train')), len(os.listdir('./test')) # 개수 확인"
   ]
  }
 ],
 "metadata": {
  "kernelspec": {
   "display_name": "Python 3",
   "language": "python",
   "name": "python3"
  },
  "language_info": {
   "codemirror_mode": {
    "name": "ipython",
    "version": 3
   },
   "file_extension": ".py",
   "mimetype": "text/x-python",
   "name": "python",
   "nbconvert_exporter": "python",
   "pygments_lexer": "ipython3",
   "version": "3.7.7"
  }
 },
 "nbformat": 4,
 "nbformat_minor": 4
}
